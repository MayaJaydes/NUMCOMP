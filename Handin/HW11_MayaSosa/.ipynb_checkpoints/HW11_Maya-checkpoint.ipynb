{
 "cells": [
  {
   "cell_type": "markdown",
   "id": "645fc8e2",
   "metadata": {},
   "source": [
    "# Maya Sosa, HW11, 11/17/21"
   ]
  },
  {
   "cell_type": "markdown",
   "id": "53171c86",
   "metadata": {},
   "source": [
    "Problem 1:"
   ]
  },
  {
   "cell_type": "code",
   "execution_count": 63,
   "id": "dd66c0ff",
   "metadata": {},
   "outputs": [],
   "source": [
    "import numpy as np\n",
    "import matplotlib.pyplot as plt\n",
    "%matplotlib inline"
   ]
  },
  {
   "cell_type": "markdown",
   "id": "5a46ac31",
   "metadata": {},
   "source": [
    "Problem 2:"
   ]
  },
  {
   "cell_type": "code",
   "execution_count": 64,
   "id": "37956b84",
   "metadata": {},
   "outputs": [],
   "source": [
    "from scipy.stats import chisquare"
   ]
  },
  {
   "cell_type": "code",
   "execution_count": 65,
   "id": "90e89e14",
   "metadata": {},
   "outputs": [],
   "source": [
    "x = np.linspace(1,100,40)\n",
    "y = np.array([7.7,  15.82307692,  23.94615385,  32.06923077, \n",
    "40.19230769, 48.31538462, 56.43846154,  64.56153846, \n",
    "72.68461538, 80.80769231,  88.93076923,  97.05384615, \n",
    "105.17692308, 113.3 , 121.42307692, 129.54615385, 137.66923077, \n",
    "145.79230769, 153.91538462, 162.03846154, 170.16153846, \n",
    "178.28461538, 186.40769231, 194.53076923, 202.65384615, \n",
    "210.77692308, 218.9, 227.02307692, 235.14615385, 243.26923077, \n",
    "251.39230769, 259.51538462, 267.63846154, 275.76153846, \n",
    "283.88461538, 292.00769231, 300.13076923, 308.25384615, \n",
    "316.37692308, 324.5])\n",
    "\n",
    "a = np.linspace(0.1, 10, 100)\n",
    "b = np.linspace(0.1, 15, 100)\n",
    "x_mod = np.linspace(1, 100, 100)\n",
    "y_mod = np.interp( x_mod, x, y )"
   ]
  },
  {
   "cell_type": "code",
   "execution_count": 66,
   "id": "9ba02f5d",
   "metadata": {},
   "outputs": [
    {
     "name": "stdout",
     "output_type": "stream",
     "text": [
      "Min = 0.0015519988134700359\n",
      "The best-fit model parameters are a =  [3.2] and b = [4.76565657]\n",
      "Power_divergenceResult(statistic=24085.635296381603, pvalue=0.0)\n"
     ]
    }
   ],
   "source": [
    "chi_square = np.zeros( ( len( a ), len( b ) ) )\n",
    "\n",
    "for i in range( len( a ) ):\n",
    "    for j in range( len( b ) ):\n",
    "        y_theory = a[ i ] * x_mod  + b[ j ]\n",
    "        chi_square[ i, j ] = np.sum( ( y_mod - y_theory )**2 / y_theory )\n",
    "        \n",
    "print('Min =', np.min(chi_square))\n",
    "q = np.where( chi_square == np.min( chi_square ) )\n",
    "print('The best-fit model parameters are a = ', a[q[0]], 'and b =', b[q[0]])\n",
    "\n",
    "print(chisquare(y_mod, y_theory)) #Unsure if this is the correct way to use this function"
   ]
  },
  {
   "cell_type": "markdown",
   "id": "001183d6",
   "metadata": {},
   "source": [
    "Problem 3:"
   ]
  },
  {
   "cell_type": "code",
   "execution_count": 67,
   "id": "d3e7cd4d",
   "metadata": {},
   "outputs": [
    {
     "name": "stdout",
     "output_type": "stream",
     "text": [
      "Today the temperature is 20 degrees fahrenheit and the wind is blowing at 55 miles per hour. The wind chill today is about -3 degrees fahrenheit.\n"
     ]
    }
   ],
   "source": [
    "#Part a\n",
    "def wind_chill(T, V):\n",
    "    \"\"\"Function takes actual temperature and wind speed on a certain day and returns the wind chill temperature\n",
    "    Inputs: Actual Temperature(T in Fahrenheit) and Wind speed (V in mph)\n",
    "    Outputs: Wind chill temperature\"\"\"\n",
    "    \n",
    "    wind_chill = 35.74 + (0.6215 * T) - (35.75 * (V**0.16)) + (0.4275 * T * (V**0.16))\n",
    "    \n",
    "    return print('Today the temperature is', T, 'degrees fahrenheit and the wind is blowing at', V, 'miles per hour. The wind chill today is about', round(wind_chill), 'degrees fahrenheit.' )\n",
    "\n",
    "\n",
    "#Running Function\n",
    "wind_chill(20, 55)"
   ]
  },
  {
   "cell_type": "code",
   "execution_count": 68,
   "id": "65ea83a6",
   "metadata": {},
   "outputs": [
    {
     "name": "stdout",
     "output_type": "stream",
     "text": [
      "{'Betelgeuse': 131.06, 'Antares': 169.78, 'Spica': 76.57, 'Proxima Cen': 1.3}\n"
     ]
    }
   ],
   "source": [
    "#Part b\n",
    "def parallax_to_distance(star_dict):\n",
    "    \"\"\"Function uses a dictionary with information on stars observed (their name and their parallax) and returns a dictionary with the names of the stars and their distances from Earth.\n",
    "    Inputs: Dictionary of stars (name and parallax in milliarcsec)\n",
    "    Outputs: Dictionary of stars (name and distance from earth in parsec)\"\"\"\n",
    "\n",
    "    arcsec = []\n",
    "    for i in star_dict.values():\n",
    "        z = i * (10**(-3))\n",
    "        arcsec.append(z)\n",
    "    \n",
    "    dist_earth = []\n",
    "    for i in arcsec:\n",
    "        distance = 1/i\n",
    "        dist_earth.append(round(distance,2))\n",
    "    \n",
    "\n",
    "    zipped_list = zip(star_dict.keys(), dist_earth)\n",
    "    new_star_dict = dict(zipped_list)\n",
    "            \n",
    "    return print(new_star_dict)\n",
    "\n",
    "\n",
    "#Running Function\n",
    "star_dict = {'Betelgeuse' : 7.63,\n",
    "            'Antares' : 5.89,\n",
    "            'Spica' : 13.06,\n",
    "            'Proxima Cen' : 768}\n",
    "\n",
    "parallax_to_distance(star_dict)"
   ]
  },
  {
   "cell_type": "code",
   "execution_count": 69,
   "id": "1837b3a0",
   "metadata": {},
   "outputs": [
    {
     "name": "stdout",
     "output_type": "stream",
     "text": [
      "{'watermeon': 1, 'melon': 3, 'apple': 5, 'strawberries': 10, 'cherries': 12, 'oranges': 14}\n",
      "\n",
      "{'cars': 200, 'motorcycles': 150, 'bikes': 10, 'skateboards': 67}\n"
     ]
    }
   ],
   "source": [
    "#Part c\n",
    "def lists_to_dict(list1, list2):\n",
    "    \"\"\"Function takes two lists of either values or strings and sorts them to figure out which lists contains\n",
    "    strings to be the keys of a dictionary and which contains the values. Returns the dictionary created from the two lists.\n",
    "    Inputs: Two lists (one with strings and one with values)\n",
    "    Output: Dictionary\"\"\"\n",
    "    \n",
    "    if type(list1[0]) == int:\n",
    "        intlist = list1\n",
    "        strlist = list2\n",
    "    if type(list2[0]) == int:\n",
    "        intlist = list2\n",
    "        strlist = list1\n",
    "    \n",
    "    zipped_list = zip(strlist, intlist)\n",
    "    created_dict = dict(zipped_list)\n",
    "\n",
    "    return print(created_dict)\n",
    "\n",
    "#Running Function\n",
    "list1 = [1, 3, 5, 10, 12, 14]\n",
    "list2 = ['watermeon', 'melon', 'apple', 'strawberries', 'cherries', 'oranges']\n",
    "list3 = ['cars', 'motorcycles', 'bikes', 'skateboards']\n",
    "list4 = [200, 150, 10, 67]\n",
    "\n",
    "lists_to_dict(list1, list2)\n",
    "print(  )\n",
    "lists_to_dict(list3, list4)\n"
   ]
  },
  {
   "cell_type": "code",
   "execution_count": 70,
   "id": "c60ba725",
   "metadata": {},
   "outputs": [
    {
     "name": "stdout",
     "output_type": "stream",
     "text": [
      "Error: Your first matrix has a shape of (2, 3) while your second matrix has a shape of (2, 2) and therefore are not compatible for multiplication.\n",
      "None\n",
      "\n",
      "[[4, 1], [2, 1]]\n",
      "\n",
      "Error: Your first matrix has a shape of (3, 3) while your second matrix has a shape of (3,) and therefore are not compatible for multiplication.\n",
      "None\n"
     ]
    }
   ],
   "source": [
    "#Part d\n",
    "def matrix_mult(matrix1, matrix2):\n",
    "    \"\"\"Function two matrices and multiples them by first checking for compatibility in their dimensions.\n",
    "    Function returns error message if not compatible.\n",
    "    Inputs: Two Matrices\n",
    "    Output: Product of matrices or error message\"\"\"\n",
    "    \n",
    "    if matrix1.shape == matrix2.shape:\n",
    "        result = [[sum(a * b for a, b in zip(matrix1_row, matrix2_col))\n",
    "                        for matrix2_col in zip(*matrix2)]\n",
    "                                for matrix1_row in matrix1]\n",
    "    \n",
    "       # new_matrix = []\n",
    "       # for i in range(len(matrix1)):\n",
    "         #   value = matrix1[i]*matrix2[i]\n",
    "          #  new_matrix.append(list(value))\n",
    "      #  result = new_matrix\n",
    "            \n",
    "    else:\n",
    "        result = print('Error: Your first matrix has a shape of', matrix1.shape, 'while your second matrix has a shape of', matrix2.shape, 'and therefore are not compatible for multiplication.')\n",
    "    \n",
    "    return result\n",
    "\n",
    "#Running Function\n",
    "A1 = np.array( [ [1, 2, 3],   \n",
    "                [4, 5, 6] ] ) \n",
    "\n",
    "A2 = np.array( [ [2, 3] ,  \n",
    "                [2 , 2] ] ) \n",
    "\n",
    "B1 = np.array( [ [1, 0], \n",
    "                [0, 1] ] )\n",
    "\n",
    "B2 = np.array( [ [4, 1], \n",
    "                [2, 1] ] ) \n",
    "\n",
    "C1 = np.array( [ [1, 0, 3], \n",
    "                [0, 1, 4], \n",
    "                [2, 1, 8] ] )\n",
    "\n",
    "C2 = np.array( [4, 1, 5] ) \n",
    " \n",
    "\n",
    "print(matrix_mult(A1, A2))\n",
    "print()\n",
    "print(matrix_mult(B1, B2))\n",
    "print()\n",
    "print(matrix_mult(C1, C2))"
   ]
  },
  {
   "cell_type": "markdown",
   "id": "0bc19918",
   "metadata": {},
   "source": [
    "Checking code "
   ]
  },
  {
   "cell_type": "code",
   "execution_count": 71,
   "id": "189c125a",
   "metadata": {},
   "outputs": [
    {
     "ename": "ValueError",
     "evalue": "matmul: Input operand 1 has a mismatch in its core dimension 0, with gufunc signature (n?,k),(k,m?)->(n?,m?) (size 2 is different from 3)",
     "output_type": "error",
     "traceback": [
      "\u001b[1;31m---------------------------------------------------------------------------\u001b[0m",
      "\u001b[1;31mValueError\u001b[0m                                Traceback (most recent call last)",
      "\u001b[1;32m<ipython-input-71-95bfda9d20c4>\u001b[0m in \u001b[0;36m<module>\u001b[1;34m\u001b[0m\n\u001b[1;32m----> 1\u001b[1;33m \u001b[0mprint\u001b[0m\u001b[1;33m(\u001b[0m\u001b[0mnp\u001b[0m\u001b[1;33m.\u001b[0m\u001b[0mmatmul\u001b[0m\u001b[1;33m(\u001b[0m\u001b[0mA1\u001b[0m\u001b[1;33m,\u001b[0m \u001b[0mA2\u001b[0m\u001b[1;33m)\u001b[0m\u001b[1;33m)\u001b[0m\u001b[1;33m\u001b[0m\u001b[1;33m\u001b[0m\u001b[0m\n\u001b[0m\u001b[0;32m      2\u001b[0m \u001b[1;31m#Error so Correct\u001b[0m\u001b[1;33m\u001b[0m\u001b[1;33m\u001b[0m\u001b[1;33m\u001b[0m\u001b[0m\n",
      "\u001b[1;31mValueError\u001b[0m: matmul: Input operand 1 has a mismatch in its core dimension 0, with gufunc signature (n?,k),(k,m?)->(n?,m?) (size 2 is different from 3)"
     ]
    }
   ],
   "source": [
    "print(np.matmul(A1, A2))\n",
    "#Error so Correct"
   ]
  },
  {
   "cell_type": "code",
   "execution_count": 72,
   "id": "7bbafb17",
   "metadata": {},
   "outputs": [
    {
     "name": "stdout",
     "output_type": "stream",
     "text": [
      "[[4 1]\n",
      " [2 1]]\n"
     ]
    }
   ],
   "source": [
    "print(np.matmul(B1, B2))\n",
    "#Correct"
   ]
  },
  {
   "cell_type": "code",
   "execution_count": 73,
   "id": "4bb24ebf",
   "metadata": {},
   "outputs": [
    {
     "name": "stdout",
     "output_type": "stream",
     "text": [
      "[19 21 49]\n"
     ]
    }
   ],
   "source": [
    "print(np.matmul(C1, C2))\n",
    "#Don't understand - shapes aren't the same"
   ]
  },
  {
   "cell_type": "markdown",
   "id": "d5060169",
   "metadata": {},
   "source": [
    "## Done!!"
   ]
  }
 ],
 "metadata": {
  "kernelspec": {
   "display_name": "Python 3",
   "language": "python",
   "name": "python3"
  },
  "language_info": {
   "codemirror_mode": {
    "name": "ipython",
    "version": 3
   },
   "file_extension": ".py",
   "mimetype": "text/x-python",
   "name": "python",
   "nbconvert_exporter": "python",
   "pygments_lexer": "ipython3",
   "version": "3.9.6"
  }
 },
 "nbformat": 4,
 "nbformat_minor": 5
}
