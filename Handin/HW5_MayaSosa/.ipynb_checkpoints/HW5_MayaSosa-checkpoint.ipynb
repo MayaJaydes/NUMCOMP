{
 "cells": [
  {
   "cell_type": "markdown",
   "id": "33c58006",
   "metadata": {},
   "source": [
    "# Maya Sosa, HW5, 9/16/21"
   ]
  },
  {
   "cell_type": "markdown",
   "id": "9b6942f8",
   "metadata": {},
   "source": [
    "Problem 1"
   ]
  },
  {
   "cell_type": "code",
   "execution_count": 4,
   "id": "ca797552",
   "metadata": {},
   "outputs": [],
   "source": [
    "import numpy as np"
   ]
  },
  {
   "cell_type": "markdown",
   "id": "6523cea1",
   "metadata": {},
   "source": [
    "Problem 2"
   ]
  },
  {
   "cell_type": "code",
   "execution_count": 2,
   "id": "bbddafa7",
   "metadata": {},
   "outputs": [
    {
     "name": "stdout",
     "output_type": "stream",
     "text": [
      "Velocity: [0, 10, 20, 30, 40, 50, 60, 70, 80, 90]\n",
      "Time: [0, 100, 200, 300, 400, 500, 600, 700, 800, 900]\n"
     ]
    }
   ],
   "source": [
    "velocity = list(range(0 , 100 , 10)) #\"To 100\" means not including\n",
    "time = list(range(0 , 1000 , 100))\n",
    "print('Velocity:',velocity)\n",
    "print('Time:',time)"
   ]
  },
  {
   "cell_type": "code",
   "execution_count": 6,
   "id": "a678af68",
   "metadata": {},
   "outputs": [
    {
     "name": "stdout",
     "output_type": "stream",
     "text": [
      "Elements 3 through 5: [20, 30, 40]\n",
      "Element 8: 70\n"
     ]
    }
   ],
   "source": [
    "print('Elements 3 through 5:',velocity[2:5:1]) #Since 1st element = 0, write elements 3 to 5 as 2-4 (but since last # isn't included put 5)\n",
    "print('Element 8:',velocity[7])"
   ]
  },
  {
   "cell_type": "code",
   "execution_count": 7,
   "id": "b5f67e16",
   "metadata": {},
   "outputs": [],
   "source": [
    "from HW4_Acceleration_Function import acceleration"
   ]
  },
  {
   "cell_type": "code",
   "execution_count": 9,
   "id": "243a3388",
   "metadata": {},
   "outputs": [
    {
     "name": "stdout",
     "output_type": "stream",
     "text": [
      "Help on function acceleration in module HW4_Acceleration_Function:\n",
      "\n",
      "acceleration(u1, u2, t1, t2)\n",
      "    Calculates acceleration of a body using different speeds at different times\n",
      "    Inputs: Speed 1 [u1] and Speed 2 [u2] = m/s ; Time 1 [t1] and Time 2 [ts] = s\n",
      "    Output: Acceleration [a] = m/s^2\n",
      "\n"
     ]
    }
   ],
   "source": [
    "help(acceleration)"
   ]
  },
  {
   "cell_type": "code",
   "execution_count": 11,
   "id": "508d648f",
   "metadata": {},
   "outputs": [
    {
     "name": "stdout",
     "output_type": "stream",
     "text": [
      "Acceleration of velocity pairs and corresponding times:\n",
      "3rd-4th element: 0.1 m/s^2\n",
      "4th-5th element: 0.1 m/s^2\n",
      "5th-8th element: 0.1 m/s^2\n"
     ]
    }
   ],
   "source": [
    "print('Acceleration of velocity pairs and corresponding times:')\n",
    "print('3rd-4th element:', acceleration(velocity[2],velocity[3],time[2],time[3]),'m/s^2')\n",
    "print('4th-5th element:', acceleration(velocity[3],velocity[4],time[3],time[4]),'m/s^2')\n",
    "print('5th-8th element:', acceleration(velocity[4],velocity[7],time[4],time[7]),'m/s^2')"
   ]
  },
  {
   "cell_type": "code",
   "execution_count": 12,
   "id": "1e04db9c",
   "metadata": {},
   "outputs": [
    {
     "name": "stdout",
     "output_type": "stream",
     "text": [
      "[0, 10, 20, 30, 40, 50, 60, 70, 80, 90]\n"
     ]
    }
   ],
   "source": [
    "velocity[4]=40\n",
    "print(velocity)"
   ]
  },
  {
   "cell_type": "markdown",
   "id": "142cd591",
   "metadata": {},
   "source": [
    "Problem 3"
   ]
  },
  {
   "cell_type": "code",
   "execution_count": 28,
   "id": "8428bbec",
   "metadata": {},
   "outputs": [],
   "source": [
    "x = np.arange(0,100.01,0.1) #This time includes 100 "
   ]
  },
  {
   "cell_type": "code",
   "execution_count": 29,
   "id": "10bd6086",
   "metadata": {},
   "outputs": [
    {
     "name": "stdout",
     "output_type": "stream",
     "text": [
      "(1001,) <class 'numpy.ndarray'>\n"
     ]
    }
   ],
   "source": [
    "print(x.shape, type(x))"
   ]
  },
  {
   "cell_type": "code",
   "execution_count": 30,
   "id": "2baab1b0",
   "metadata": {},
   "outputs": [
    {
     "name": "stdout",
     "output_type": "stream",
     "text": [
      "[  0.    0.1   0.2 ...  99.8  99.9 100. ]\n"
     ]
    }
   ],
   "source": [
    "print(x)"
   ]
  },
  {
   "cell_type": "code",
   "execution_count": 31,
   "id": "a5e66720",
   "metadata": {},
   "outputs": [
    {
     "name": "stdout",
     "output_type": "stream",
     "text": [
      "Maximum: 100.0 Minimum: 0.0 Mean: 50.0\n"
     ]
    }
   ],
   "source": [
    "print('Maximum:', np.max(x), \"Minimum:\", np.min(x), 'Mean:', np.mean(x))"
   ]
  },
  {
   "cell_type": "code",
   "execution_count": 32,
   "id": "8f573069",
   "metadata": {},
   "outputs": [
    {
     "name": "stdout",
     "output_type": "stream",
     "text": [
      "[-52.  -51.9 -51.8 ...  47.8  47.9  48. ]\n"
     ]
    }
   ],
   "source": [
    "print(x-52)"
   ]
  },
  {
   "cell_type": "code",
   "execution_count": 36,
   "id": "77cd876c",
   "metadata": {},
   "outputs": [
    {
     "name": "stdout",
     "output_type": "stream",
     "text": [
      "[0.    0.005 0.01  ... 4.99  4.995 5.   ]\n"
     ]
    }
   ],
   "source": [
    "print(x*0.05)"
   ]
  },
  {
   "cell_type": "markdown",
   "id": "80aae5f4",
   "metadata": {},
   "source": [
    "Problem 4"
   ]
  },
  {
   "cell_type": "code",
   "execution_count": 37,
   "id": "dcffdd4b",
   "metadata": {},
   "outputs": [],
   "source": [
    "student_h = [5.01, 4.10, 6.02, 5.07, 6.11]"
   ]
  },
  {
   "cell_type": "code",
   "execution_count": 38,
   "id": "1b79dc66",
   "metadata": {},
   "outputs": [],
   "source": [
    "def ft_to_m_cm(f):\n",
    "    \"\"\"Function converts feet to meters and centimeters\n",
    "    Input: Height[f]= Length/height in feet written as a decimal\n",
    "    Output: Height[m]= Length/height in meters (including centimeters)\"\"\"\n",
    "    \n",
    "    m = f / 3.28\n",
    "    return m"
   ]
  },
  {
   "cell_type": "code",
   "execution_count": null,
   "id": "d9eb1b13",
   "metadata": {},
   "outputs": [],
   "source": [
    "\n"
   ]
  },
  {
   "cell_type": "markdown",
   "id": "3149b4fa",
   "metadata": {},
   "source": [
    "Problem 5"
   ]
  },
  {
   "cell_type": "code",
   "execution_count": 16,
   "id": "bab4b644",
   "metadata": {},
   "outputs": [],
   "source": [
    "from Displacement_Function import displacement"
   ]
  },
  {
   "cell_type": "code",
   "execution_count": 30,
   "id": "ba48b85e",
   "metadata": {},
   "outputs": [],
   "source": [
    "u_init= 0\n",
    "a= list([10,20,30])\n",
    "t= list([2,4,14])"
   ]
  },
  {
   "cell_type": "code",
   "execution_count": 33,
   "id": "3378a080",
   "metadata": {},
   "outputs": [
    {
     "name": "stdout",
     "output_type": "stream",
     "text": [
      "Displacement from rest after 2s with acceleration of 10 m/s is 20.0 m\n",
      "Displacement from rest after 4s with acceleration of 20 m/s is 160.0 m\n",
      "Displacement from rest after 14s with acceleration of 30 m/s is 2940.0 m\n"
     ]
    }
   ],
   "source": [
    "print('Displacement from rest after 2s with acceleration of 10 m/s is', displacement(u_init,t[0],a[0]),'m')\n",
    "print('Displacement from rest after 4s with acceleration of 20 m/s is', displacement(u_init,t[1],a[1]),'m')\n",
    "print('Displacement from rest after 14s with acceleration of 30 m/s is', displacement(u_init,t[2],a[2]),'m')"
   ]
  }
 ],
 "metadata": {
  "kernelspec": {
   "display_name": "Python 3",
   "language": "python",
   "name": "python3"
  },
  "language_info": {
   "codemirror_mode": {
    "name": "ipython",
    "version": 3
   },
   "file_extension": ".py",
   "mimetype": "text/x-python",
   "name": "python",
   "nbconvert_exporter": "python",
   "pygments_lexer": "ipython3",
   "version": "3.9.6"
  }
 },
 "nbformat": 4,
 "nbformat_minor": 5
}
