{
 "cells": [
  {
   "cell_type": "code",
   "execution_count": 2,
   "id": "652056e4",
   "metadata": {},
   "outputs": [],
   "source": [
    "def displacement(u_init, t, a):\n",
    "    \"\"\"Calculates total displacement of a body during a time interval t\n",
    "        using initial velocity (speed) and a constant acceleration.\n",
    "        \n",
    "        Inputs: Initial Speed[m/s] = u_init \n",
    "                Time[s] = t \n",
    "                Acceleration [m/s^2] = a (constant)\n",
    "                \n",
    "        Outputs: Displacement[m] = s\"\"\"\n",
    "    \n",
    "    s = (u_init * t) + (0.5 * a * (t**2))\n",
    "    return s"
   ]
  }
 ],
 "metadata": {
  "kernelspec": {
   "display_name": "Python 3",
   "language": "python",
   "name": "python3"
  },
  "language_info": {
   "codemirror_mode": {
    "name": "ipython",
    "version": 3
   },
   "file_extension": ".py",
   "mimetype": "text/x-python",
   "name": "python",
   "nbconvert_exporter": "python",
   "pygments_lexer": "ipython3",
   "version": "3.9.6"
  }
 },
 "nbformat": 4,
 "nbformat_minor": 5
}
