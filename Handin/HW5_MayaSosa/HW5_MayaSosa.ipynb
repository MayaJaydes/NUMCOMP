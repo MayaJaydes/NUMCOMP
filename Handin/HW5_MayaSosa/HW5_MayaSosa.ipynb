{
 "cells": [
  {
   "cell_type": "markdown",
   "id": "cf0cdf0e",
   "metadata": {},
   "source": [
    "Maya Sosa, HW5, 9/16/21"
   ]
  },
  {
   "cell_type": "markdown",
   "id": "1d2a2caa",
   "metadata": {},
   "source": [
    "Problem 1"
   ]
  },
  {
   "cell_type": "code",
   "execution_count": 1,
   "id": "1110e44f",
   "metadata": {},
   "outputs": [],
   "source": [
    "import numpy as np"
   ]
  },
  {
   "cell_type": "markdown",
   "id": "334ce000",
   "metadata": {},
   "source": [
    "Problem 2"
   ]
  },
  {
   "cell_type": "code",
   "execution_count": 3,
   "id": "7ffc1669",
   "metadata": {},
   "outputs": [
    {
     "name": "stdout",
     "output_type": "stream",
     "text": [
      "[0, 101, 10]\n"
     ]
    }
   ],
   "source": [
    "velocity = [0 , 101 , 10]\n",
    "time = [0 , 1001 , 100]\n",
    "print(velocity)"
   ]
  }
 ],
 "metadata": {
  "kernelspec": {
   "display_name": "Python 3",
   "language": "python",
   "name": "python3"
  },
  "language_info": {
   "codemirror_mode": {
    "name": "ipython",
    "version": 3
   },
   "file_extension": ".py",
   "mimetype": "text/x-python",
   "name": "python",
   "nbconvert_exporter": "python",
   "pygments_lexer": "ipython3",
   "version": "3.9.6"
  }
 },
 "nbformat": 4,
 "nbformat_minor": 5
}
