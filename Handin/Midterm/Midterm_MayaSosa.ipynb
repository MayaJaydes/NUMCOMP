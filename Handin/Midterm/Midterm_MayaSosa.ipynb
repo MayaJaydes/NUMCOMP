{
 "cells": [
  {
   "cell_type": "markdown",
   "id": "5fe38f57",
   "metadata": {},
   "source": [
    "# Maya Sosa, Midterm, October 5th 2021"
   ]
  },
  {
   "cell_type": "markdown",
   "id": "ef5cb86b",
   "metadata": {},
   "source": [
    "Problem 1:"
   ]
  },
  {
   "cell_type": "code",
   "execution_count": 2,
   "id": "8d50d950",
   "metadata": {},
   "outputs": [],
   "source": [
    "import numpy as np"
   ]
  },
  {
   "cell_type": "markdown",
   "id": "ff266d80",
   "metadata": {},
   "source": [
    "Problem 2:"
   ]
  },
  {
   "cell_type": "code",
   "execution_count": 8,
   "id": "071a4074",
   "metadata": {},
   "outputs": [
    {
     "name": "stdout",
     "output_type": "stream",
     "text": [
      "Select two cities from the following list as a start and endpoint to your trip.\n"
     ]
    }
   ],
   "source": [
    "print('Select two cities from the following list as a start and endpoint to your trip.')"
   ]
  },
  {
   "cell_type": "code",
   "execution_count": 9,
   "id": "98e1e45d",
   "metadata": {},
   "outputs": [
    {
     "name": "stdout",
     "output_type": "stream",
     "text": [
      "Please input chosen cities in format: (Start_City, Target_City)\n"
     ]
    }
   ],
   "source": [
    "print('Please input chosen cities in format: (Start_City, Target_City)')"
   ]
  },
  {
   "cell_type": "code",
   "execution_count": 4,
   "id": "744485a7",
   "metadata": {},
   "outputs": [
    {
     "name": "stdout",
     "output_type": "stream",
     "text": [
      "Cities to choose from: ['Atlanta', 'Baltimore', 'Boston', 'Charlotte', 'Dallas', 'Denver', 'Miami', 'Minneapolis', 'Orlando', 'Sacramento', 'Tampa', 'Washington']\n"
     ]
    }
   ],
   "source": [
    "city_list = ['Atlanta', 'Baltimore', 'Boston', 'Charlotte', 'Dallas', 'Denver', 'Miami', 'Minneapolis', 'Orlando', 'Sacramento', 'Tampa', 'Washington']\n",
    "print('Cities to choose from:', city_list)"
   ]
  }
 ],
 "metadata": {
  "kernelspec": {
   "display_name": "Python 3",
   "language": "python",
   "name": "python3"
  },
  "language_info": {
   "codemirror_mode": {
    "name": "ipython",
    "version": 3
   },
   "file_extension": ".py",
   "mimetype": "text/x-python",
   "name": "python",
   "nbconvert_exporter": "python",
   "pygments_lexer": "ipython3",
   "version": "3.9.6"
  }
 },
 "nbformat": 4,
 "nbformat_minor": 5
}
