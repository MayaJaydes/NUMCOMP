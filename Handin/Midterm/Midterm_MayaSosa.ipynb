{
 "cells": [
  {
   "cell_type": "markdown",
   "id": "5fe38f57",
   "metadata": {},
   "source": [
    "# Maya Sosa, Midterm, October 5th 2021"
   ]
  },
  {
   "cell_type": "markdown",
   "id": "ef5cb86b",
   "metadata": {},
   "source": [
    "Problem 1:"
   ]
  },
  {
   "cell_type": "code",
   "execution_count": 171,
   "id": "8d50d950",
   "metadata": {},
   "outputs": [],
   "source": [
    "import numpy as np"
   ]
  },
  {
   "cell_type": "markdown",
   "id": "ff266d80",
   "metadata": {},
   "source": [
    "Problem 2:"
   ]
  },
  {
   "cell_type": "code",
   "execution_count": 189,
   "id": "071a4074",
   "metadata": {},
   "outputs": [
    {
     "name": "stdout",
     "output_type": "stream",
     "text": [
      "Select two cities from the following list as a start and endpoint to your trip.\n",
      "Cities to choose from: ['Atlanta', 'Baltimore', 'Boston', 'Charlotte', 'Dallas', 'Denver', 'Miami', 'Minneapolis', 'Orlando', 'Sacramento', 'Tampa', 'Washington']\n"
     ]
    }
   ],
   "source": [
    "print('Select two cities from the following list as a start and endpoint to your trip.')\n",
    "\n",
    "city_list = ['Atlanta', 'Baltimore', 'Boston', 'Charlotte', 'Dallas', 'Denver', 'Miami', 'Minneapolis', 'Orlando', 'Sacramento', 'Tampa', 'Washington']\n",
    "print('Cities to choose from:', city_list)"
   ]
  },
  {
   "cell_type": "code",
   "execution_count": 58,
   "id": "98e1e45d",
   "metadata": {},
   "outputs": [
    {
     "name": "stdout",
     "output_type": "stream",
     "text": [
      "Please input a start city from the list in the first box and hit enter, then input a destination city from the list in the second box and hit enter (Remember to capitalize the first letter!):\n",
      "tampa\n",
      "Orlando\n",
      "Sorry, the city tampa is not in the list, please input a city from the list\n",
      "Tampa\n",
      "Great! You have chosen to travel from Tampa to Orlando\n"
     ]
    }
   ],
   "source": [
    "print('Please input a start city from the list in the first box and hit enter, then input a destination city from the list in the second box and hit enter (Remember to capitalize the first letter!):')\n",
    "start_city = input()\n",
    "target_city = input()\n",
    "\n",
    "    \n",
    "if start_city not in city_list:\n",
    "    print( 'Sorry, the city', start_city, 'is not in the list, please input a city from the list')\n",
    "    start_city = input()\n",
    "    \n",
    "if target_city not in city_list:\n",
    "    print( 'Sorry, the city', target_city, 'is not in the list, please input a city from the list')\n",
    "    target_city = input()\n",
    "    \n",
    "    \n",
    "print('Great! You have chosen to travel from', start_city, 'to', target_city)\n"
   ]
  },
  {
   "cell_type": "markdown",
   "id": "e51df7c5",
   "metadata": {},
   "source": [
    "Problem 3:"
   ]
  },
  {
   "cell_type": "code",
   "execution_count": 30,
   "id": "62d00141",
   "metadata": {},
   "outputs": [],
   "source": [
    "travel_data = np.loadtxt('distances_midterm.dat', comments = '#')"
   ]
  },
  {
   "cell_type": "code",
   "execution_count": 31,
   "id": "78ace84f",
   "metadata": {},
   "outputs": [
    {
     "name": "stdout",
     "output_type": "stream",
     "text": [
      "[[   0.  678. 1094.  245.  782. 1402.  662. 1127.  438. 2467.  467.  638.]\n",
      " [ 678.    0.  400.  422. 1366. 1633. 1103. 1109.  983. 2730.  941.   39.]\n",
      " [1094.  400.    0.  839. 1761. 1969. 1497. 1390. 1381. 3008. 1341.  439.]\n",
      " [ 245.  422.  839.    0. 1026. 1562.  735. 1180.  524. 2676.  580.  399.]\n",
      " [ 782. 1366. 1761. 1026.    0.  785. 1313.  991. 1092. 1726. 1107. 1328.]\n",
      " [1402. 1633. 1969. 1562.  785.    0. 2064.  914. 1843. 1162. 1857. 1661.]\n",
      " [ 662. 1103. 1497.  735. 1313. 2064.    0. 1773.  237. 3039.  270. 1158.]\n",
      " [1127. 1109. 1390. 1180.  991.  914. 1773.    0. 1568. 1887. 1583. 1108.]\n",
      " [ 438.  983. 1381.  524. 1092. 1843.  237. 1568.    0. 2810.   84.  846.]\n",
      " [2467. 2730. 3008. 2676. 1726. 1162. 3039. 1887. 2810.    0. 2832. 2728.]\n",
      " [ 467.  941. 1341.  580. 1107. 1857.  270. 1583.   84. 2832.    0.  903.]\n",
      " [ 638.   39.  439.  390. 1328. 1661. 1158. 1108.  846. 2728.  903.    0.]]\n"
     ]
    }
   ],
   "source": [
    "print(travel_data)"
   ]
  },
  {
   "cell_type": "code",
   "execution_count": 59,
   "id": "5a323d71",
   "metadata": {},
   "outputs": [
    {
     "name": "stdout",
     "output_type": "stream",
     "text": [
      "You will travel 84.0 miles between Tampa and Orlando\n"
     ]
    }
   ],
   "source": [
    "for j in city_list:\n",
    "    if j == start_city:\n",
    "        first_city = city_list.index(j)\n",
    "        \n",
    "\n",
    "for i in city_list:\n",
    "    if i == target_city:\n",
    "        second_city = city_list.index(i)\n",
    "        \n",
    "        \n",
    "x = travel_data[first_city, second_city]\n",
    "\n",
    "print('You will travel', x, 'miles between', start_city, 'and', target_city)"
   ]
  },
  {
   "cell_type": "code",
   "execution_count": 62,
   "id": "7d9eb773",
   "metadata": {},
   "outputs": [
    {
     "name": "stdout",
     "output_type": "stream",
     "text": [
      "Your trip from Tampa to Orlando will take 0 day(s) 1 hour(s) and 7 minute(s).\n"
     ]
    }
   ],
   "source": [
    "#Assuming avergae travel speed is 75mph\n",
    "\n",
    "days = (x / 75) / 24\n",
    "travel_time_days = int(days)\n",
    "\n",
    "hours = (x / 75) - (travel_time_days * 24)\n",
    "travel_time_hours = int(hours)\n",
    "\n",
    "minutes = ((x / 75) * 60) - (travel_time_hours * 60)\n",
    "travel_time_minutes = int(minutes)\n",
    "\n",
    "\n",
    "print('Your trip from', start_city, 'to', target_city, 'will take', travel_time_days, 'day(s)', travel_time_hours, 'hour(s) and', travel_time_minutes, 'minute(s).')"
   ]
  },
  {
   "cell_type": "code",
   "execution_count": 88,
   "id": "66b8718e",
   "metadata": {},
   "outputs": [],
   "source": [
    "def navigation(start_city, target_city):\n",
    "    \"\"\"Given a starting city from list and a destination city from the list, function returns the distance between the two\n",
    "    cities as well as the amount of time in days, hours, and minutes it takes to get there (assuming an avg speed of 75mph)\n",
    "    Inputs: start_city and target_city\n",
    "    Outputs: distance and time to get there (days/hours/minutes)\"\"\"\n",
    "    \n",
    "    city_list = ['Atlanta', 'Baltimore', 'Boston', 'Charlotte', 'Dallas', 'Denver', 'Miami', 'Minneapolis', 'Orlando', 'Sacramento', 'Tampa', 'Washington']\n",
    "    \n",
    "    for j in city_list:\n",
    "        if j == start_city:\n",
    "            first_city = city_list.index(j)\n",
    "        \n",
    "\n",
    "    for i in city_list:\n",
    "        if i == target_city:\n",
    "            second_city = city_list.index(i)\n",
    "        \n",
    "        \n",
    "    x = travel_data[first_city, second_city]\n",
    "\n",
    "\n",
    "    days = (x / 75) / 24\n",
    "    travel_time_days = int(days)\n",
    "\n",
    "    hours = (x / 75) - (travel_time_days * 24)\n",
    "    travel_time_hours = int(hours)\n",
    "\n",
    "    minutes = ((x / 75) * 60) - (travel_time_hours * 60) - (travel_time_days * 60 * 24 )\n",
    "    travel_time_minutes = int(minutes)\n",
    "\n",
    "    return(print('Your trip from', start_city, 'to', target_city, 'is', x, 'miles and will take you a total of', travel_time_days, 'day(s)', travel_time_hours, 'hour(s) and', travel_time_minutes, 'minute(s).'))"
   ]
  },
  {
   "cell_type": "code",
   "execution_count": 89,
   "id": "a32082be",
   "metadata": {},
   "outputs": [
    {
     "name": "stdout",
     "output_type": "stream",
     "text": [
      "Your trip from Atlanta to Miami is 662.0 miles and will take you a total of 0 day(s) 8 hour(s) and 49 minute(s).\n"
     ]
    }
   ],
   "source": [
    "navigation('Atlanta', 'Miami')"
   ]
  },
  {
   "cell_type": "markdown",
   "id": "ae44be09",
   "metadata": {},
   "source": [
    "Problem 4:"
   ]
  },
  {
   "cell_type": "code",
   "execution_count": 90,
   "id": "28d88e4c",
   "metadata": {},
   "outputs": [],
   "source": [
    "def nav_pitstop(start_city, pitstop_city, target_city):\n",
    "    \"\"\"Given a starting city, pitstop city from list and a destination city from the list, function returns the distance between the two\n",
    "    cities as well as the amount of time in days, hours, and minutes it takes to get there (assuming an avg speed of 75mph)\n",
    "    Inputs: start_city, pitstop_city, and target_city\n",
    "    Outputs: Distance and time to get from city to city (days/hours/minutes)\"\"\"\n",
    "    \n",
    "    city_list = ['Atlanta', 'Baltimore', 'Boston', 'Charlotte', 'Dallas', 'Denver', 'Miami', 'Minneapolis', 'Orlando', 'Sacramento', 'Tampa', 'Washington']\n",
    "    \n",
    "    for j in city_list:\n",
    "        if j == start_city:\n",
    "            first_city = city_list.index(j)\n",
    "            \n",
    "    for k in city_list:\n",
    "        if k == pitstop_city:\n",
    "            between_city = city_list.index(k)\n",
    "        \n",
    "    for i in city_list:\n",
    "        if i == target_city:\n",
    "            second_city = city_list.index(i)\n",
    "        \n",
    "        \n",
    "    x1 = travel_data[first_city, between_city]\n",
    "    x2 = travel_data[between_city, second_city]\n",
    "    \n",
    "\n",
    "    #Time between start and pitstop city\n",
    "    days1 = (x1 / 75) / 24\n",
    "    travel_time_days1 = int(days1)\n",
    "\n",
    "    hours1 = (x1 / 75) - (travel_time_days1 * 24)\n",
    "    travel_time_hours1 = int(hours1)\n",
    "\n",
    "    minutes1 = ((x1 / 75) * 60) - (travel_time_hours1 * 60) - (travel_time_days1 * 60 * 24 )\n",
    "    travel_time_minutes1 = int(minutes1)\n",
    "    \n",
    "    \n",
    "    #Time between pitstop city and target city\n",
    "    days2 = (x2 / 75) / 24\n",
    "    travel_time_days2 = int(days2)\n",
    "\n",
    "    hours2 = (x2 / 75) - (travel_time_days2 * 24)\n",
    "    travel_time_hours2 = int(hours2)\n",
    "\n",
    "    minutes2 = ((x2 / 75) * 60) - (travel_time_hours2 * 60) - (travel_time_days2 * 60 * 24 )\n",
    "    travel_time_minutes2 = int(minutes2)\n",
    "\n",
    "    return(print('Your trip from', start_city, 'to', pitstop_city, 'is', x1, 'miles and will take you a total of', travel_time_days1, 'day(s)', travel_time_hours1, 'hour(s) and', travel_time_minutes1, 'minute(s) while your trip from', pitstop_city, 'to', target_city, 'is', x2, 'miles and will take you a total of', travel_time_days2, 'day(s)', travel_time_hours2, 'hour(s) and', travel_time_minutes2, 'minute(s).'))"
   ]
  },
  {
   "cell_type": "code",
   "execution_count": 91,
   "id": "d0d282b4",
   "metadata": {},
   "outputs": [
    {
     "name": "stdout",
     "output_type": "stream",
     "text": [
      "Your trip from Boston to Denver is 1969.0 miles and will take you a total of 1 day(s) 2 hour(s) and 15 minute(s) while your trip from Denver to Sacramento is 1162.0 miles and will take you a total of 0 day(s) 15 hour(s) and 29 minute(s).\n"
     ]
    }
   ],
   "source": [
    "nav_pitstop('Boston', 'Denver', 'Sacramento')"
   ]
  },
  {
   "cell_type": "code",
   "execution_count": 93,
   "id": "3b2e98a6",
   "metadata": {},
   "outputs": [
    {
     "name": "stdout",
     "output_type": "stream",
     "text": [
      "Please choose three cities from the following list ['Atlanta', 'Baltimore', 'Boston', 'Charlotte', 'Dallas', 'Denver', 'Miami', 'Minneapolis', 'Orlando', 'Sacramento', 'Tampa', 'Washington']\n",
      "Input a starting city from the list in the first box and hit enter, then input a pitstop city and lastly input destination city (Remember to capitalize the first letters!):\n",
      "Boston\n",
      "Denver\n",
      "Sacramento\n",
      "Your trip from Boston to Denver is 1969.0 miles and will take you a total of 1 day(s) 2 hour(s) and 15 minute(s) while your trip from Denver to Sacramento is 1162.0 miles and will take you a total of 0 day(s) 15 hour(s) and 29 minute(s).\n"
     ]
    }
   ],
   "source": [
    "print('Please choose three cities from the following list', city_list)\n",
    "\n",
    "print('Input a starting city from the list in the first box and hit enter, then input a pitstop city and lastly input destination city (Remember to capitalize the first letters!):')\n",
    "start_city = input()\n",
    "pitstop_city = input()\n",
    "target_city = input()\n",
    "\n",
    "    \n",
    "if start_city not in city_list:\n",
    "    print( 'Sorry, the city', start_city, 'is not in the list, please input a city from the list')\n",
    "    start_city = input()\n",
    "    \n",
    "if pitstop_city not in city_list:\n",
    "    print( 'Sorry, the city', pitstop_city, 'is not in the list, please input a city from the list')\n",
    "    pitstop_city = input()\n",
    "    \n",
    "if target_city not in city_list:\n",
    "    print( 'Sorry, the city', target_city, 'is not in the list, please input a city from the list')\n",
    "    target_city = input()\n",
    "    \n",
    "    \n",
    "nav_pitstop(start_city, pitstop_city, target_city)"
   ]
  },
  {
   "cell_type": "code",
   "execution_count": 96,
   "id": "ca6a8d05",
   "metadata": {},
   "outputs": [],
   "source": [
    "import math\n",
    "#Using it in next section to round gas trips needed up"
   ]
  },
  {
   "cell_type": "code",
   "execution_count": 102,
   "id": "e796b0ed",
   "metadata": {},
   "outputs": [
    {
     "name": "stdout",
     "output_type": "stream",
     "text": [
      "From Boston to Denver you will need to make about 5 stops for gas.\n",
      "From Denver to Sacramento you will need to make about 3 stops for gas.\n",
      "Between the 8 stops for gas you can estimate to spend ~ $ 307.2\n"
     ]
    }
   ],
   "source": [
    "#Car has 24.9mpg and holds 16 gallons\n",
    "\n",
    "for j in city_list:\n",
    "        if j == start_city:\n",
    "            first_city = city_list.index(j)\n",
    "            \n",
    "for k in city_list:\n",
    "     if k == pitstop_city:\n",
    "            between_city = city_list.index(k)  \n",
    "\n",
    "for i in city_list:\n",
    "    if i == target_city:\n",
    "        second_city = city_list.index(i)\n",
    "        \n",
    "        \n",
    "x1 = travel_data[first_city, between_city]\n",
    "x2 = travel_data[between_city, second_city]\n",
    "    \n",
    "pitstop1 = math.ceil((x1 / 24.9) /16)\n",
    "pitstop2 = math.ceil((x2 / 24.9) /16)\n",
    "\n",
    "print('From', start_city, 'to', pitstop_city, 'you will need to make about', pitstop1 ,'stops for gas.')\n",
    "print('From', pitstop_city, 'to', target_city, 'you will need to make about', pitstop2 , 'stops for gas.')\n",
    "\n",
    "\n",
    "#$2.40 per gallon\n",
    "\n",
    "gas_cost = 2.4 * 16 * 8\n",
    "print('Between the 8 stops for gas you can estimate to spend ~ $', gas_cost)\n"
   ]
  },
  {
   "cell_type": "markdown",
   "id": "5de5a36c",
   "metadata": {},
   "source": [
    "Problem 5:"
   ]
  },
  {
   "cell_type": "code",
   "execution_count": 269,
   "id": "6d7b6306",
   "metadata": {},
   "outputs": [
    {
     "name": "stdout",
     "output_type": "stream",
     "text": [
      "Please input a start city from the list in the first box and hit enter, then input a destination city from the list in the second box and hit enter (Remember to capitalize the first letter!):\n",
      "Cities to choose from: ['Atlanta', 'Baltimore', 'Boston', 'Charlotte', 'Dallas', 'Denver', 'Miami', 'Minneapolis', 'Orlando', 'Sacramento', 'Tampa', 'Washington']\n",
      "Baltimore\n",
      "Orlando\n"
     ]
    }
   ],
   "source": [
    "print('Please input a start city from the list in the first box and hit enter, then input a destination city from the list in the second box and hit enter (Remember to capitalize the first letter!):')\n",
    "print('Cities to choose from:', city_list)\n",
    "start_city = input()\n",
    "target_city = input()"
   ]
  },
  {
   "cell_type": "code",
   "execution_count": 270,
   "id": "9b20c8fc",
   "metadata": {
    "scrolled": true
   },
   "outputs": [
    {
     "name": "stdout",
     "output_type": "stream",
     "text": [
      "Fastest pitstop from Baltimore to Orlando is in Washington\n",
      "Total distance of trip: 885.0 miles\n"
     ]
    }
   ],
   "source": [
    "for j in city_list:\n",
    "    if j == start_city:\n",
    "        first_city = city_list.index(j)\n",
    "\n",
    "for i in city_list:\n",
    "    if i == target_city:\n",
    "        second_city = city_list.index(i)\n",
    "        \n",
    "list1 = travel_data[first_city,]\n",
    "list2 = travel_data[second_city,]\n",
    "\n",
    "temp_min = 99999\n",
    "                \n",
    "list = list1 + list2\n",
    "\n",
    "for l in list:\n",
    "    if l < temp_min and l != list[first_city]:\n",
    "        temp_min = l\n",
    "        \n",
    "            \n",
    "f = np.where(list == temp_min)\n",
    "\n",
    "pit_city = city_list[f[0][0]]\n",
    "\n",
    "\n",
    "print('Fastest pitstop from', start_city, 'to', target_city, 'is in', pit_city  )   \n",
    "print('Total distance of trip:', temp_min,'miles')\n",
    "\n",
    "#Problem 5B number 1 and for #2 got Washington\n"
   ]
  },
  {
   "cell_type": "code",
   "execution_count": null,
   "id": "fca7b069",
   "metadata": {},
   "outputs": [],
   "source": [
    "print('You will need to stop', ,'times for gas, which will come to a total of $', )"
   ]
  }
 ],
 "metadata": {
  "kernelspec": {
   "display_name": "Python 3",
   "language": "python",
   "name": "python3"
  },
  "language_info": {
   "codemirror_mode": {
    "name": "ipython",
    "version": 3
   },
   "file_extension": ".py",
   "mimetype": "text/x-python",
   "name": "python",
   "nbconvert_exporter": "python",
   "pygments_lexer": "ipython3",
   "version": "3.9.6"
  }
 },
 "nbformat": 4,
 "nbformat_minor": 5
}
