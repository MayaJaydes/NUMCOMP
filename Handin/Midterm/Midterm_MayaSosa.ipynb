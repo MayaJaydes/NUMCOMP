{
 "cells": [
  {
   "cell_type": "markdown",
   "id": "5fe38f57",
   "metadata": {},
   "source": [
    "# Maya Sosa, Midterm, October 5th 2021"
   ]
  },
  {
   "cell_type": "markdown",
   "id": "ef5cb86b",
   "metadata": {},
   "source": [
    "Problem 1:"
   ]
  },
  {
   "cell_type": "code",
   "execution_count": 5,
   "id": "8d50d950",
   "metadata": {},
   "outputs": [],
   "source": [
    "import numpy as np"
   ]
  },
  {
   "cell_type": "markdown",
   "id": "ff266d80",
   "metadata": {},
   "source": [
    "Problem 2:"
   ]
  },
  {
   "cell_type": "code",
   "execution_count": 277,
   "id": "071a4074",
   "metadata": {},
   "outputs": [
    {
     "name": "stdout",
     "output_type": "stream",
     "text": [
      "Select two cities from the following list as a start and endpoint to your trip.\n",
      "Cities to choose from: ['Atlanta', 'Baltimore', 'Boston', 'Charlotte', 'Dallas', 'Denver', 'Miami', 'Minneapolis', 'Orlando', 'Sacramento', 'Tampa', 'Washington']\n"
     ]
    }
   ],
   "source": [
    "print('Select two cities from the following list as a start and endpoint to your trip.')\n",
    "\n",
    "city_list = ['Atlanta', 'Baltimore', 'Boston', 'Charlotte', 'Dallas', 'Denver', 'Miami', 'Minneapolis', 'Orlando', 'Sacramento', 'Tampa', 'Washington']\n",
    "print('Cities to choose from:', city_list)"
   ]
  },
  {
   "cell_type": "code",
   "execution_count": 278,
   "id": "98e1e45d",
   "metadata": {},
   "outputs": [
    {
     "name": "stdout",
     "output_type": "stream",
     "text": [
      "Please input a start city from the list in the first box and hit enter, then input a destination city from the list in the second box and hit enter (Remember to capitalize the first letter!):\n",
      "Paris\n",
      "Orlando\n",
      "Sorry, the city Paris is not in the list, please input a city from the list\n",
      "Atlanta\n",
      "Great! You have chosen to travel from Atlanta to Orlando\n"
     ]
    }
   ],
   "source": [
    "print('Please input a start city from the list in the first box and hit enter, then input a destination city from the list in the second box and hit enter (Remember to capitalize the first letter!):')\n",
    "start_city = input()\n",
    "target_city = input()\n",
    "\n",
    "    \n",
    "if start_city not in city_list:\n",
    "    print( 'Sorry, the city', start_city, 'is not in the list, please input a city from the list')\n",
    "    start_city = input()\n",
    "    \n",
    "if target_city not in city_list:\n",
    "    print( 'Sorry, the city', target_city, 'is not in the list, please input a city from the list')\n",
    "    target_city = input()\n",
    "    \n",
    "    \n",
    "print('Great! You have chosen to travel from', start_city, 'to', target_city)\n"
   ]
  },
  {
   "cell_type": "markdown",
   "id": "5fbc1fb9",
   "metadata": {},
   "source": [
    "Problem 3:"
   ]
  },
  {
   "cell_type": "code",
   "execution_count": 6,
   "id": "56e41dbe",
   "metadata": {},
   "outputs": [],
   "source": [
    "travel_data = np.loadtxt('distances_midterm.dat', comments = '#')"
   ]
  },
  {
   "cell_type": "code",
   "execution_count": 280,
   "id": "40bd8625",
   "metadata": {},
   "outputs": [
    {
     "name": "stdout",
     "output_type": "stream",
     "text": [
      "[[   0.  678. 1094.  245.  782. 1402.  662. 1127.  438. 2467.  467.  638.]\n",
      " [ 678.    0.  400.  422. 1366. 1633. 1103. 1109.  983. 2730.  941.   39.]\n",
      " [1094.  400.    0.  839. 1761. 1969. 1497. 1390. 1381. 3008. 1341.  439.]\n",
      " [ 245.  422.  839.    0. 1026. 1562.  735. 1180.  524. 2676.  580.  399.]\n",
      " [ 782. 1366. 1761. 1026.    0.  785. 1313.  991. 1092. 1726. 1107. 1328.]\n",
      " [1402. 1633. 1969. 1562.  785.    0. 2064.  914. 1843. 1162. 1857. 1661.]\n",
      " [ 662. 1103. 1497.  735. 1313. 2064.    0. 1773.  237. 3039.  270. 1158.]\n",
      " [1127. 1109. 1390. 1180.  991.  914. 1773.    0. 1568. 1887. 1583. 1108.]\n",
      " [ 438.  983. 1381.  524. 1092. 1843.  237. 1568.    0. 2810.   84.  846.]\n",
      " [2467. 2730. 3008. 2676. 1726. 1162. 3039. 1887. 2810.    0. 2832. 2728.]\n",
      " [ 467.  941. 1341.  580. 1107. 1857.  270. 1583.   84. 2832.    0.  903.]\n",
      " [ 638.   39.  439.  390. 1328. 1661. 1158. 1108.  846. 2728.  903.    0.]]\n"
     ]
    }
   ],
   "source": [
    "print(travel_data)"
   ]
  },
  {
   "cell_type": "code",
   "execution_count": 281,
   "id": "2e0e6d98",
   "metadata": {},
   "outputs": [
    {
     "name": "stdout",
     "output_type": "stream",
     "text": [
      "You will travel 438.0 miles between Atlanta and Orlando\n"
     ]
    }
   ],
   "source": [
    "for j in city_list:\n",
    "    if j == start_city:\n",
    "        first_city = city_list.index(j)\n",
    "        \n",
    "\n",
    "for i in city_list:\n",
    "    if i == target_city:\n",
    "        second_city = city_list.index(i)\n",
    "        \n",
    "        \n",
    "x = travel_data[first_city, second_city]\n",
    "\n",
    "print('You will travel', x, 'miles between', start_city, 'and', target_city)"
   ]
  },
  {
   "cell_type": "code",
   "execution_count": 282,
   "id": "9a866229",
   "metadata": {},
   "outputs": [
    {
     "name": "stdout",
     "output_type": "stream",
     "text": [
      "Your trip from Atlanta to Orlando will take 0 day(s) 5 hour(s) and 50 minute(s).\n"
     ]
    }
   ],
   "source": [
    "#Assuming average travel speed is 75mph\n",
    "\n",
    "days = (x / 75) / 24\n",
    "travel_time_days = int(days)\n",
    "\n",
    "hours = (x / 75) - (travel_time_days * 24)\n",
    "travel_time_hours = int(hours)\n",
    "\n",
    "minutes = ((x / 75) * 60) - (travel_time_hours * 60)\n",
    "travel_time_minutes = int(minutes)\n",
    "\n",
    "\n",
    "print('Your trip from', start_city, 'to', target_city, 'will take', travel_time_days, 'day(s)', travel_time_hours, 'hour(s) and', travel_time_minutes, 'minute(s).')"
   ]
  },
  {
   "cell_type": "code",
   "execution_count": 284,
   "id": "269efe5b",
   "metadata": {},
   "outputs": [],
   "source": [
    "def navigation(start_city, target_city):\n",
    "    \"\"\"Given a starting city from list and a destination city from the list, function returns the distance between the two\n",
    "    cities as well as the amount of time in days, hours, and minutes it takes to get there (assuming an avg speed of 75mph)\n",
    "    Inputs: start_city and target_city\n",
    "    Outputs: distance and time to get there (days/hours/minutes)\"\"\"\n",
    "    \n",
    "    city_list = ['Atlanta', 'Baltimore', 'Boston', 'Charlotte', 'Dallas', 'Denver', 'Miami', 'Minneapolis', 'Orlando', 'Sacramento', 'Tampa', 'Washington']\n",
    "    \n",
    "    for j in city_list:\n",
    "        if j == start_city:\n",
    "            first_city = city_list.index(j)\n",
    "        \n",
    "\n",
    "    for i in city_list:\n",
    "        if i == target_city:\n",
    "            second_city = city_list.index(i)\n",
    "        \n",
    "        \n",
    "    x = travel_data[first_city, second_city]\n",
    "\n",
    "\n",
    "    days = (x / 75) / 24\n",
    "    travel_time_days = int(days)\n",
    "\n",
    "    hours = (x / 75) - (travel_time_days * 24)\n",
    "    travel_time_hours = int(hours)\n",
    "\n",
    "    minutes = ((x / 75) * 60) - (travel_time_hours * 60) - (travel_time_days * 60 * 24 )\n",
    "    travel_time_minutes = int(minutes)\n",
    "\n",
    "    return(print('Your trip from', start_city, 'to', target_city, 'is', x, 'miles and will take you a total of', travel_time_days, 'day(s)', travel_time_hours, 'hour(s) and', travel_time_minutes, 'minute(s).'))"
   ]
  },
  {
   "cell_type": "code",
   "execution_count": 285,
   "id": "fc731335",
   "metadata": {},
   "outputs": [
    {
     "name": "stdout",
     "output_type": "stream",
     "text": [
      "Your trip from Tampa to Orlando is 84.0 miles and will take you a total of 0 day(s) 1 hour(s) and 7 minute(s).\n"
     ]
    }
   ],
   "source": [
    "navigation('Tampa', 'Orlando')"
   ]
  },
  {
   "cell_type": "markdown",
   "id": "eb81f99b",
   "metadata": {},
   "source": [
    "Problem 4:"
   ]
  },
  {
   "cell_type": "code",
   "execution_count": 286,
   "id": "ca43c4fa",
   "metadata": {},
   "outputs": [],
   "source": [
    "def nav_pitstop(start_city, pitstop_city, target_city):\n",
    "    \"\"\"Given a starting city, pitstop city from list and a destination city from the list, function returns the distance between the two\n",
    "    cities as well as the amount of time in days, hours, and minutes it takes to get there (assuming an avg speed of 75mph)\n",
    "    Inputs: start_city, pitstop_city, and target_city\n",
    "    Outputs: Distance and time to get from city to city (days/hours/minutes)\"\"\"\n",
    "    \n",
    "    city_list = ['Atlanta', 'Baltimore', 'Boston', 'Charlotte', 'Dallas', 'Denver', 'Miami', 'Minneapolis', 'Orlando', 'Sacramento', 'Tampa', 'Washington']\n",
    "    \n",
    "    for j in city_list:\n",
    "        if j == start_city:\n",
    "            first_city = city_list.index(j)\n",
    "            \n",
    "    for k in city_list:\n",
    "        if k == pitstop_city:\n",
    "            between_city = city_list.index(k)\n",
    "        \n",
    "    for i in city_list:\n",
    "        if i == target_city:\n",
    "            second_city = city_list.index(i)\n",
    "        \n",
    "        \n",
    "    x1 = travel_data[first_city, between_city]\n",
    "    x2 = travel_data[between_city, second_city]\n",
    "    \n",
    "\n",
    "    #Time between start and pitstop city\n",
    "    days1 = (x1 / 75) / 24\n",
    "    travel_time_days1 = int(days1)\n",
    "\n",
    "    hours1 = (x1 / 75) - (travel_time_days1 * 24)\n",
    "    travel_time_hours1 = int(hours1)\n",
    "\n",
    "    minutes1 = ((x1 / 75) * 60) - (travel_time_hours1 * 60) - (travel_time_days1 * 60 * 24 )\n",
    "    travel_time_minutes1 = int(minutes1)\n",
    "    \n",
    "    \n",
    "    #Time between pitstop city and target city\n",
    "    days2 = (x2 / 75) / 24\n",
    "    travel_time_days2 = int(days2)\n",
    "\n",
    "    hours2 = (x2 / 75) - (travel_time_days2 * 24)\n",
    "    travel_time_hours2 = int(hours2)\n",
    "\n",
    "    minutes2 = ((x2 / 75) * 60) - (travel_time_hours2 * 60) - (travel_time_days2 * 60 * 24 )\n",
    "    travel_time_minutes2 = int(minutes2)\n",
    "\n",
    "    return(print('Your trip from', start_city, 'to', pitstop_city, 'is', x1, 'miles and will take you a total of', travel_time_days1, 'day(s)', travel_time_hours1, 'hour(s) and', travel_time_minutes1, 'minute(s) while your trip from', pitstop_city, 'to', target_city, 'is', x2, 'miles and will take you a total of', travel_time_days2, 'day(s)', travel_time_hours2, 'hour(s) and', travel_time_minutes2, 'minute(s).'))"
   ]
  },
  {
   "cell_type": "code",
   "execution_count": 287,
   "id": "f83009ee",
   "metadata": {},
   "outputs": [
    {
     "name": "stdout",
     "output_type": "stream",
     "text": [
      "Your trip from Boston to Denver is 1969.0 miles and will take you a total of 1 day(s) 2 hour(s) and 15 minute(s) while your trip from Denver to Sacramento is 1162.0 miles and will take you a total of 0 day(s) 15 hour(s) and 29 minute(s).\n"
     ]
    }
   ],
   "source": [
    "nav_pitstop('Boston', 'Denver', 'Sacramento')"
   ]
  },
  {
   "cell_type": "code",
   "execution_count": 288,
   "id": "f2b2da16",
   "metadata": {},
   "outputs": [
    {
     "name": "stdout",
     "output_type": "stream",
     "text": [
      "Please choose three cities from the following list ['Atlanta', 'Baltimore', 'Boston', 'Charlotte', 'Dallas', 'Denver', 'Miami', 'Minneapolis', 'Orlando', 'Sacramento', 'Tampa', 'Washington']\n",
      "Input a starting city from the list in the first box and hit enter, then input a pitstop city and lastly input destination city (Remember to capitalize the first letters!):\n",
      "Boston\n",
      "Denver\n",
      "Sacramento\n",
      "Your trip from Boston to Denver is 1969.0 miles and will take you a total of 1 day(s) 2 hour(s) and 15 minute(s) while your trip from Denver to Sacramento is 1162.0 miles and will take you a total of 0 day(s) 15 hour(s) and 29 minute(s).\n"
     ]
    }
   ],
   "source": [
    "print('Please choose three cities from the following list', city_list)\n",
    "\n",
    "print('Input a starting city from the list in the first box and hit enter, then input a pitstop city and lastly input destination city (Remember to capitalize the first letters!):')\n",
    "start_city = input()\n",
    "pitstop_city = input()\n",
    "target_city = input()\n",
    "\n",
    "    \n",
    "if start_city not in city_list:\n",
    "    print( 'Sorry, the city', start_city, 'is not in the list, please input a city from the list')\n",
    "    start_city = input()\n",
    "    \n",
    "if pitstop_city not in city_list:\n",
    "    print( 'Sorry, the city', pitstop_city, 'is not in the list, please input a city from the list')\n",
    "    pitstop_city = input()\n",
    "    \n",
    "if target_city not in city_list:\n",
    "    print( 'Sorry, the city', target_city, 'is not in the list, please input a city from the list')\n",
    "    target_city = input()\n",
    "    \n",
    "    \n",
    "nav_pitstop(start_city, pitstop_city, target_city)"
   ]
  },
  {
   "cell_type": "code",
   "execution_count": 9,
   "id": "fcec757b",
   "metadata": {},
   "outputs": [],
   "source": [
    "import math\n",
    "#Using it in next section to round gas trips needed up"
   ]
  },
  {
   "cell_type": "code",
   "execution_count": 290,
   "id": "a82f3c93",
   "metadata": {},
   "outputs": [
    {
     "name": "stdout",
     "output_type": "stream",
     "text": [
      "From Boston to Denver you will need to make about 5 stop(s) for gas.\n",
      "From Denver to Sacramento you will need to make about 3 stop(s) for gas.\n",
      "You can estimate to spend ~ $ 307.2 in gas\n"
     ]
    }
   ],
   "source": [
    "#Car has 24.9mpg and holds 16 gallons\n",
    "\n",
    "for j in city_list:\n",
    "        if j == start_city:\n",
    "            first_city = city_list.index(j)\n",
    "            \n",
    "for k in city_list:\n",
    "     if k == pitstop_city:\n",
    "            between_city = city_list.index(k)  \n",
    "\n",
    "for i in city_list:\n",
    "    if i == target_city:\n",
    "        second_city = city_list.index(i)\n",
    "        \n",
    "        \n",
    "x1 = travel_data[first_city, between_city]\n",
    "x2 = travel_data[between_city, second_city]\n",
    "    \n",
    "pitstop1 = math.ceil((x1 / 24.9) /16)\n",
    "pitstop2 = math.ceil((x2 / 24.9) /16)\n",
    "\n",
    "print('From', start_city, 'to', pitstop_city, 'you will need to make about', pitstop1 ,'stop(s) for gas.')\n",
    "print('From', pitstop_city, 'to', target_city, 'you will need to make about', pitstop2 , 'stop(s) for gas.')\n",
    "\n",
    "\n",
    "#$2.40 per gallon and assuming they fill their tank at each stop\n",
    "\n",
    "gas_cost = 2.4 * 16 * (pitstop1 + pitstop2)\n",
    "print('You can estimate to spend ~ $', gas_cost, 'in gas')\n"
   ]
  },
  {
   "cell_type": "markdown",
   "id": "4ff78118",
   "metadata": {},
   "source": [
    "Problem 5:"
   ]
  },
  {
   "cell_type": "code",
   "execution_count": 302,
   "id": "1af2604c",
   "metadata": {},
   "outputs": [
    {
     "name": "stdout",
     "output_type": "stream",
     "text": [
      "Please input a start city from the list in the first box and hit enter, then input a destination city from the list in the second box and hit enter (Remember to capitalize the first letter!):\n",
      "Cities to choose from: ['Atlanta', 'Baltimore', 'Boston', 'Charlotte', 'Dallas', 'Denver', 'Miami', 'Minneapolis', 'Orlando', 'Sacramento', 'Tampa', 'Washington']\n",
      "Baltimore\n",
      "Orlando\n"
     ]
    }
   ],
   "source": [
    "print('Please input a start city from the list in the first box and hit enter, then input a destination city from the list in the second box and hit enter (Remember to capitalize the first letter!):')\n",
    "print('Cities to choose from:', city_list)\n",
    "start_city = input()\n",
    "target_city = input()"
   ]
  },
  {
   "cell_type": "code",
   "execution_count": 303,
   "id": "210370c8",
   "metadata": {
    "scrolled": true
   },
   "outputs": [
    {
     "name": "stdout",
     "output_type": "stream",
     "text": [
      "Fastest pitstop from Baltimore to Orlando is in Washington\n",
      "Total distance of trip: 885.0 miles\n"
     ]
    }
   ],
   "source": [
    "for j in city_list:\n",
    "    if j == start_city:\n",
    "        first_city = city_list.index(j)\n",
    "\n",
    "for i in city_list:\n",
    "    if i == target_city:\n",
    "        second_city = city_list.index(i)\n",
    "        \n",
    "list1 = travel_data[first_city,]\n",
    "list2 = travel_data[second_city,]\n",
    "\n",
    "temp_min = 99999\n",
    "                \n",
    "list = list1 + list2\n",
    "\n",
    "for l in list:\n",
    "    if l < temp_min and l != list[first_city]:\n",
    "        temp_min = l\n",
    "        \n",
    "            \n",
    "f = np.where(list == temp_min)\n",
    "\n",
    "pitstop_city = city_list[f[0][0]]\n",
    "\n",
    "\n",
    "print('Fastest pitstop from', start_city, 'to', target_city, 'is in', pitstop_city  )   \n",
    "print('Total distance of trip:', temp_min,'miles')\n",
    "\n",
    "#Problem 5B number 1 and for #2 got Washington\n"
   ]
  },
  {
   "cell_type": "code",
   "execution_count": 304,
   "id": "36f05006",
   "metadata": {},
   "outputs": [
    {
     "name": "stdout",
     "output_type": "stream",
     "text": [
      "From Baltimore to Washington you will need to make about 1 stop(s) for gas.\n",
      "From Washington to Orlando you will need to make about 3 stop(s) for gas.\n",
      "You can estimate to spend ~ $ 153.6 in gas\n"
     ]
    }
   ],
   "source": [
    "for j in city_list:\n",
    "        if j == start_city:\n",
    "            first_city = city_list.index(j)\n",
    "            \n",
    "for k in city_list:\n",
    "     if k == pitstop_city:\n",
    "            between_city = city_list.index(k)  \n",
    "\n",
    "for i in city_list:\n",
    "    if i == target_city:\n",
    "        second_city = city_list.index(i)\n",
    "\n",
    "x1 = travel_data[first_city, between_city]\n",
    "x2 = travel_data[between_city, second_city]\n",
    "    \n",
    "pitstop1 = math.ceil((x1 / 24.9) /16)\n",
    "pitstop2 = math.ceil((x2 / 24.9) /16)\n",
    "\n",
    "print('From', start_city, 'to', pitstop_city, 'you will need to make about', pitstop1 ,'stop(s) for gas.')\n",
    "print('From', pitstop_city, 'to', target_city, 'you will need to make about', pitstop2 , 'stop(s) for gas.')\n",
    "\n",
    "\n",
    "#$2.40 per gallon\n",
    "\n",
    "gas_cost = 2.4 * 16 * (pitstop1 + pitstop2)\n",
    "print('You can estimate to spend ~ $', gas_cost,'in gas')"
   ]
  },
  {
   "cell_type": "markdown",
   "id": "b317b79e",
   "metadata": {},
   "source": [
    "Done!! Not sure if we had to do this but I created another function based on problem 5 below "
   ]
  },
  {
   "cell_type": "code",
   "execution_count": 7,
   "id": "56c4dafb",
   "metadata": {},
   "outputs": [],
   "source": [
    "def trip_planner(start_city, target_city):\n",
    "    \"\"\"Given a starting and destination city from the list, function finds city from list to create a pitstop in that creates \n",
    "    a trip of the shortest distance and informs user of what that pitstop city is and how long the total trip will be.\n",
    "    Function also informs user of how many gas stops they will need to make on each leg of the trip and total price of those gas stops.\n",
    "    Inputs: start_city and target_city\n",
    "    Outputs: Pitstop City, Distance (mi) of total trip, Number of gas stops needed on each leg, and total price of gas\"\"\"\n",
    "    \n",
    "    city_list = ['Atlanta', 'Baltimore', 'Boston', 'Charlotte', 'Dallas', 'Denver', 'Miami', 'Minneapolis', 'Orlando', 'Sacramento', 'Tampa', 'Washington']\n",
    "    \n",
    "   #Finding Pitstop City\n",
    "    for j in city_list:\n",
    "        if j == start_city:\n",
    "            first_city = city_list.index(j)\n",
    "\n",
    "    for i in city_list:\n",
    "        if i == target_city:\n",
    "            second_city = city_list.index(i)\n",
    "        \n",
    "    list1 = travel_data[first_city,]\n",
    "    list2 = travel_data[second_city,]\n",
    "\n",
    "    temp_min = 99999\n",
    "                \n",
    "    list = list1 + list2\n",
    "\n",
    "    for l in list:\n",
    "        if l < temp_min and l != list[first_city]: #Makes sure straight trip A to B is not included\n",
    "            temp_min = l\n",
    "        \n",
    "    f = np.where(list == temp_min)\n",
    "\n",
    "    pitstop_city = city_list[f[0][0]]\n",
    "    \n",
    "    #Finding gas stops/cost\n",
    "    for k in city_list:\n",
    "        if k == pitstop_city:\n",
    "            between_city = city_list.index(k) \n",
    "    \n",
    "    x1 = travel_data[first_city, between_city]\n",
    "    x2 = travel_data[between_city, second_city]\n",
    "    \n",
    "    pitstop1 = math.ceil((x1 / 24.9) /16)\n",
    "    pitstop2 = math.ceil((x2 / 24.9) /16)\n",
    "\n",
    "    gas_cost = 2.4 * 16 * (pitstop1 + pitstop2)\n",
    "    \n",
    "    #Finding time between start city and pitstop city\n",
    "    days1 = (x1 / 75) / 24\n",
    "    travel_time_days1 = int(days1)\n",
    "\n",
    "    hours1 = (x1 / 75) - (travel_time_days1 * 24)\n",
    "    travel_time_hours1 = int(hours1)\n",
    "\n",
    "    minutes1 = ((x1 / 75) * 60) - (travel_time_hours1 * 60) - (travel_time_days1 * 60 * 24 )\n",
    "    travel_time_minutes1 = int(minutes1)\n",
    "    \n",
    "    \n",
    "    #Time between pitstop city and target city\n",
    "    days2 = (x2 / 75) / 24\n",
    "    travel_time_days2 = int(days2)\n",
    "\n",
    "    hours2 = (x2 / 75) - (travel_time_days2 * 24)\n",
    "    travel_time_hours2 = int(hours2)\n",
    "\n",
    "    minutes2 = ((x2 / 75) * 60) - (travel_time_hours2 * 60) - (travel_time_days2 * 60 * 24 )\n",
    "    travel_time_minutes2 = int(minutes2)\n",
    "    \n",
    "    #Adding them together for total time\n",
    "    travel_time_days = travel_time_days1 + travel_time_days2\n",
    "    travel_time_hours = travel_time_hours1 + travel_time_hours2\n",
    "    travel_time_minutes = travel_time_minutes1 + travel_time_minutes2\n",
    "\n",
    "    return(print('Fastest pitstop from', start_city, 'to', target_city, 'is in', pitstop_city, ', making the total distance of trip', temp_min,'miles. It will take about', travel_time_days, 'day(s)', travel_time_hours, 'hour(s) and', travel_time_minutes, 'minute(s) to complete the trip.', \n",
    "                 'From', start_city, 'to', pitstop_city, 'you will need to make about', pitstop1 ,'stop(s) for gas.', \n",
    "                 'From', pitstop_city, 'to', target_city, 'you will need to make about', pitstop2 , 'stop(s) for gas.',\n",
    "                 'You can estimate to spend ~ $', gas_cost,'in gas.'))"
   ]
  },
  {
   "cell_type": "code",
   "execution_count": 336,
   "id": "3b3480f0",
   "metadata": {},
   "outputs": [
    {
     "name": "stdout",
     "output_type": "stream",
     "text": [
      "Fastest pitstop from Miami to Tampa is in Orlando , making the total distance of trip 321.0 miles. It will take about 0 day(s) 4 hour(s) and 16 minute(s) to complete the trip. From Miami to Orlando you will need to make about 1 stop(s) for gas. From Orlando to Tampa you will need to make about 1 stop(s) for gas. You can estimate to spend ~ $ 76.8 in gas.\n"
     ]
    }
   ],
   "source": [
    "trip_planner('Miami', 'Tampa')"
   ]
  },
  {
   "cell_type": "code",
   "execution_count": 10,
   "id": "c31b480b",
   "metadata": {},
   "outputs": [
    {
     "name": "stdout",
     "output_type": "stream",
     "text": [
      "Fastest pitstop from Baltimore to Minneapolis is in Washington , making the total distance of trip 1147.0 miles. It will take about 0 day(s) 14 hour(s) and 77 minute(s) to complete the trip. From Baltimore to Washington you will need to make about 1 stop(s) for gas. From Washington to Minneapolis you will need to make about 3 stop(s) for gas. You can estimate to spend ~ $ 153.6 in gas.\n"
     ]
    }
   ],
   "source": [
    "trip_planner('Baltimore', 'Minneapolis')"
   ]
  }
 ],
 "metadata": {
  "kernelspec": {
   "display_name": "Python 3",
   "language": "python",
   "name": "python3"
  },
  "language_info": {
   "codemirror_mode": {
    "name": "ipython",
    "version": 3
   },
   "file_extension": ".py",
   "mimetype": "text/x-python",
   "name": "python",
   "nbconvert_exporter": "python",
   "pygments_lexer": "ipython3",
   "version": "3.9.6"
  }
 },
 "nbformat": 4,
 "nbformat_minor": 5
}
