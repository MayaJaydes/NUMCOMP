{
 "cells": [
  {
   "cell_type": "markdown",
   "id": "0e41c2ad",
   "metadata": {},
   "source": [
    "# Maya Sosa, Midterm, October 5th 2021"
   ]
  },
  {
   "cell_type": "markdown",
   "id": "a5730b96",
   "metadata": {},
   "source": [
    "Problem 1:"
   ]
  },
  {
   "cell_type": "code",
   "execution_count": 2,
   "id": "9331a472",
   "metadata": {},
   "outputs": [],
   "source": [
    "import numpy as np"
   ]
  },
  {
   "cell_type": "markdown",
   "id": "e2b239cf",
   "metadata": {},
   "source": [
    "Problem 2:"
   ]
  },
  {
   "cell_type": "code",
   "execution_count": 8,
   "id": "9557f584",
   "metadata": {},
   "outputs": [
    {
     "name": "stdout",
     "output_type": "stream",
     "text": [
      "Select two cities from the following list as a start and endpoint to your trip.\n"
     ]
    }
   ],
   "source": [
    "print('Select two cities from the following list as a start and endpoint to your trip.')"
   ]
  },
  {
   "cell_type": "code",
   "execution_count": 9,
   "id": "5627ed6c",
   "metadata": {},
   "outputs": [
    {
     "name": "stdout",
     "output_type": "stream",
     "text": [
      "Please input chosen cities in format: (Start_City, Target_City)\n"
     ]
    }
   ],
   "source": [
    "print('Please input chosen cities in format: (Start_City, Target_City)')"
   ]
  },
  {
   "cell_type": "code",
   "execution_count": 4,
   "id": "dab71dcd",
   "metadata": {},
   "outputs": [
    {
     "name": "stdout",
     "output_type": "stream",
     "text": [
      "Cities to choose from: ['Atlanta', 'Baltimore', 'Boston', 'Charlotte', 'Dallas', 'Denver', 'Miami', 'Minneapolis', 'Orlando', 'Sacramento', 'Tampa', 'Washington']\n"
     ]
    }
   ],
   "source": [
    "city_list = ['Atlanta', 'Baltimore', 'Boston', 'Charlotte', 'Dallas', 'Denver', 'Miami', 'Minneapolis', 'Orlando', 'Sacramento', 'Tampa', 'Washington']\n",
    "print('Cities to choose from:', city_list)"
   ]
  }
 ],
 "metadata": {
  "kernelspec": {
   "display_name": "Python 3",
   "language": "python",
   "name": "python3"
  },
  "language_info": {
   "codemirror_mode": {
    "name": "ipython",
    "version": 3
   },
   "file_extension": ".py",
   "mimetype": "text/x-python",
   "name": "python",
   "nbconvert_exporter": "python",
   "pygments_lexer": "ipython3",
   "version": "3.9.6"
  }
 },
 "nbformat": 4,
 "nbformat_minor": 5
}
