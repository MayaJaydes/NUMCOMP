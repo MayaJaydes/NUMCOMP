{
 "cells": [
  {
   "cell_type": "markdown",
   "id": "669d07d1",
   "metadata": {},
   "source": [
    "# Maya Sosa, HW7, 10/14/2021"
   ]
  },
  {
   "cell_type": "markdown",
   "id": "724b56ee",
   "metadata": {},
   "source": [
    "Problem 1:"
   ]
  },
  {
   "cell_type": "code",
   "execution_count": 492,
   "id": "e203471a",
   "metadata": {},
   "outputs": [],
   "source": [
    "import numpy as np"
   ]
  },
  {
   "cell_type": "markdown",
   "id": "152495b8",
   "metadata": {},
   "source": [
    "Problem 2:"
   ]
  },
  {
   "cell_type": "code",
   "execution_count": 493,
   "id": "9bd46363",
   "metadata": {},
   "outputs": [],
   "source": [
    "def word_to_number(number):\n",
    "    \"\"\"Given the english word form of a number from zero to twenty will return the numeric value of the number\n",
    "    Ex: 'one' = 1\n",
    "    Input: Number in word form\n",
    "    Output: Numeric value of given word\"\"\"\n",
    "    \n",
    "    dict1 = dict()\n",
    "    \n",
    "    dict1[ 'zero'  ] = 0\n",
    "    dict1[ 'one'   ] = 1\n",
    "    dict1[ 'two'   ] = 2\n",
    "    dict1[ 'three' ] = 3\n",
    "    dict1[ 'four'  ] = 4\n",
    "    dict1[ 'five'  ] = 5\n",
    "    dict1[ 'six'   ] = 6\n",
    "    dict1[ 'seven' ] = 7\n",
    "    dict1[ 'eight' ] = 8\n",
    "    dict1[ 'nine'  ] = 9\n",
    "    dict1[ 'ten'   ] = 10\n",
    "    dict1[ 'eleven'   ] = 11\n",
    "    dict1[ 'twelve'   ] = 12\n",
    "    dict1[ 'thirteen' ] = 13\n",
    "    dict1[ 'fourteen' ] = 14\n",
    "    dict1[ 'fifteen'  ] = 15\n",
    "    dict1[ 'sixteen'  ] = 16\n",
    "    dict1[ 'seventeen'] = 17\n",
    "    dict1[ 'eighteen' ] = 18\n",
    "    dict1[ 'nineteen' ] = 19\n",
    "    dict1[ 'twenty'   ] = 20\n",
    "    \n",
    "    return print(number, 'is', dict1[number])\n",
    "    "
   ]
  },
  {
   "cell_type": "code",
   "execution_count": 494,
   "id": "84f41df9",
   "metadata": {},
   "outputs": [
    {
     "name": "stdout",
     "output_type": "stream",
     "text": [
      "three is 3\n",
      "seven is 7\n",
      "twelve is 12\n",
      "sixteen is 16\n",
      "nineteen is 19\n"
     ]
    }
   ],
   "source": [
    "word_to_number('three')\n",
    "word_to_number('seven')\n",
    "word_to_number('twelve')\n",
    "word_to_number('sixteen')\n",
    "word_to_number('nineteen')"
   ]
  },
  {
   "cell_type": "markdown",
   "id": "5ebd1572",
   "metadata": {},
   "source": [
    "Problem 3:"
   ]
  },
  {
   "cell_type": "code",
   "execution_count": 579,
   "id": "3b4244d5",
   "metadata": {},
   "outputs": [
    {
     "name": "stdout",
     "output_type": "stream",
     "text": [
      "['Deleting', 'an', 'item', 'from', 'a', 'list', 'or', 'array', 'while', 'iterating', 'over', 'it', 'is', 'a', 'Python', 'problem', 'that', 'is', 'well', 'known', 'to', 'any', 'experienced', 'software', 'developer']\n"
     ]
    }
   ],
   "source": [
    "#Splitting the sentence\n",
    "sentence = 'Deleting an item from a list or array while iterating over it is a Python problem that is well known to any experienced software developer'\n",
    "split_sentence = sentence.split()\n",
    "print(split_sentence)"
   ]
  },
  {
   "cell_type": "code",
   "execution_count": 564,
   "id": "3b87c134",
   "metadata": {},
   "outputs": [
    {
     "name": "stdout",
     "output_type": "stream",
     "text": [
      "experienced\n"
     ]
    }
   ],
   "source": [
    "# For Loop\n",
    "\n",
    "temp_max = 1\n",
    "\n",
    "for i in split_sentence:\n",
    "    if len(i) > temp_max:\n",
    "        temp_max = len(i)\n",
    "        longest_word = i\n",
    "\n",
    "print(longest_word)"
   ]
  },
  {
   "cell_type": "code",
   "execution_count": 593,
   "id": "eda73805",
   "metadata": {},
   "outputs": [
    {
     "name": "stdout",
     "output_type": "stream",
     "text": [
      "experienced\n"
     ]
    }
   ],
   "source": [
    "# While loop\n",
    "\n",
    "i = 0\n",
    "word_length = 0\n",
    "\n",
    "while (i < len(split_sentence)):\n",
    "    temp_longest = split_sentence[i]\n",
    "    if word_length < len(temp_longest):\n",
    "        word_length = len(temp_longest)\n",
    "        longest_word = temp_longest\n",
    "    i = i + 1\n",
    "    \n",
    "print(longest_word)"
   ]
  },
  {
   "cell_type": "markdown",
   "id": "0b853217",
   "metadata": {},
   "source": [
    "Problem 4:"
   ]
  },
  {
   "cell_type": "code",
   "execution_count": 597,
   "id": "f5a4f0d3",
   "metadata": {},
   "outputs": [
    {
     "name": "stdout",
     "output_type": "stream",
     "text": [
      "[100 125 150 175 200 225 250 275 300 325 350 375 400 425 450 475 500 525\n",
      " 550 575 600 625 650 675 700 725 750 775 800 825 850 875 900 925 950 975]\n",
      "[0. 0. 0. 0. 0. 0. 0. 0. 0. 0. 0. 0. 0. 0. 0. 0. 0. 0. 0. 0. 0. 0. 0. 0.\n",
      " 0. 0. 0. 0. 0. 0. 0. 0. 0. 0. 0. 0.]\n"
     ]
    }
   ],
   "source": [
    "#Creating arrays\n",
    "\n",
    "x = np.arange(100,1000,25) #She said if not stated, do not include last number\n",
    "print(x)\n",
    "y = np.zeros(x.shape)\n",
    "print(y)"
   ]
  },
  {
   "cell_type": "code",
   "execution_count": 598,
   "id": "3030dce1",
   "metadata": {},
   "outputs": [
    {
     "name": "stdout",
     "output_type": "stream",
     "text": [
      "[5.00000e+01 1.56250e+04 7.50000e+01 3.06250e+04 1.00000e+02 5.06250e+04\n",
      " 1.25000e+02 7.56250e+04 1.50000e+02 1.05625e+05 1.75000e+02 1.40625e+05\n",
      " 2.00000e+02 1.80625e+05 2.25000e+02 2.25625e+05 2.50000e+02 2.75625e+05\n",
      " 2.75000e+02 3.30625e+05 3.00000e+02 3.90625e+05 3.25000e+02 4.55625e+05\n",
      " 3.50000e+02 5.25625e+05 3.75000e+02 6.00625e+05 4.00000e+02 6.80625e+05\n",
      " 4.25000e+02 7.65625e+05 4.50000e+02 8.55625e+05 4.75000e+02 9.50625e+05]\n"
     ]
    }
   ],
   "source": [
    "# Halfing the corresponding value of x for even indexes of y and increasing to the power of 2 the odd indexes\n",
    "\n",
    "for i in range(len(x)):\n",
    "    if i%2 == 0:\n",
    "        y[i]= (x[i] / 2)\n",
    "    if i%2 != 0:\n",
    "        y[i] = (x[i]**2)\n",
    "print(y)\n",
    "\n",
    "#Came out in scientific notation but still correct"
   ]
  },
  {
   "cell_type": "markdown",
   "id": "76807b08",
   "metadata": {},
   "source": [
    "Problem 5:"
   ]
  },
  {
   "cell_type": "code",
   "execution_count": 515,
   "id": "20d60db4",
   "metadata": {},
   "outputs": [],
   "source": [
    "import pandas as pd\n",
    "import csv"
   ]
  },
  {
   "cell_type": "code",
   "execution_count": 516,
   "id": "85db06d5",
   "metadata": {},
   "outputs": [
    {
     "name": "stdout",
     "output_type": "stream",
     "text": [
      "Student 20191 has a final grade of 77.5 % so they pass\n",
      "Student 20192 has a final grade of 89.0 % so they pass\n",
      "Student 20193 has a final grade of 88.14 % so they pass\n",
      "Student 20194 has a final grade of 68.85 % so they pass\n",
      "Student 20195 has a final grade of 64.95 % so they pass\n",
      "Student 20196 has a final grade of 61.8 % so they pass\n",
      "Student 20197 has a final grade of 94.05 % so they pass\n",
      "Student 20198 has a final grade of 91.75 % so they pass\n",
      "Student 20199 has a final grade of 34.35 % so they do not pass\n",
      "Student 201910 has a final grade of 75.75 % so they pass\n"
     ]
    }
   ],
   "source": [
    "#Reading data in and making into array\n",
    "\n",
    "z = pd.read_csv(r'student_data.csv')\n",
    "all_grades = np.array(z)\n",
    "\n",
    "#This is just me figuring out the code for the function in the next box, ignore\n",
    "\n",
    "ID = all_grades[0: ,0]\n",
    "#print(ID)\n",
    "\n",
    "hw = all_grades[0: ,1:6]\n",
    "#print(hw)\n",
    "#print(np.mean(hw[0]))\n",
    "#hw_grade = np.mean(hw)\n",
    "\n",
    "quiz = all_grades[0: ,6:9]\n",
    "#print(quiz)\n",
    "\n",
    "final = all_grades[0: ,9]\n",
    "#print(final)\n",
    "\n",
    "\n",
    "hw_weight = 0.25*(np.mean(hw[0])) \n",
    "quiz_weight = 0.15*(np.mean(quiz[0]))\n",
    "final_weight = 0.6*(np.mean(final[0]))\n",
    "\n",
    "if final_grade > 60:\n",
    "    pass_or_no = 'pass'\n",
    "else: pass_or_no = 'do not pass'\n",
    "\n",
    "final_grade = hw_weight + quiz_weight + final_weight\n",
    "                    \n",
    "\n",
    "\n",
    "for i in range(len(ID)):\n",
    "    \n",
    "    hw_weight = 0.25*(np.mean(hw[i])) \n",
    "    quiz_weight = 0.15*(np.mean(quiz[i]))\n",
    "    final_weight = 0.6*(np.mean(final[i]))\n",
    "\n",
    "    final_grade = hw_weight + quiz_weight + final_weight\n",
    "    \n",
    "    if final_grade > 60:\n",
    "        pass_or_no = 'pass'\n",
    "    else: \n",
    "        pass_or_no = 'do not pass'\n",
    "    \n",
    "    \n",
    "    print('Student', int(ID[i]), 'has a final grade of', round(final_grade, ndigits=2), '% so they', pass_or_no)\n"
   ]
  },
  {
   "cell_type": "code",
   "execution_count": 517,
   "id": "1f54d905",
   "metadata": {},
   "outputs": [],
   "source": [
    "def pass_or_no_pass(grades):\n",
    "    \"\"\"Calculated final grade of student using 60% of the final exam grade, 15% of the quizzes grade and 25% of the homework grade and returns a tuple with the student's ID, their final grade (%), and ‘pass’(if grade is > 60%) or ‘no pass’(if grade is < 60%)\n",
    "    Inputs: all_grades\n",
    "    Outputs: tuple with student ID, final grade, and if they pass or not\"\"\"\n",
    "    \n",
    "    \n",
    "    grades = all_grades\n",
    "\n",
    "    ID = all_grades[0: ,0]\n",
    "    hw = all_grades[0: ,1:6]\n",
    "    quiz = all_grades[0: ,6:9]\n",
    "    final = all_grades[0: ,9]\n",
    "    \n",
    "    for i in range(len(ID)):\n",
    "        hw_weight = 0.25*(np.mean(hw[i])) \n",
    "        quiz_weight = 0.15*(np.mean(quiz[i]))\n",
    "        final_weight = 0.6*(np.mean(final[i]))\n",
    "\n",
    "        final_grade = hw_weight + quiz_weight + final_weight\n",
    "    \n",
    "        if final_grade > 60:\n",
    "            pass_or_no = 'pass'\n",
    "        else: \n",
    "            pass_or_no = 'did not pass'\n",
    "        \n",
    "        z = print((int(ID[i]), round(final_grade, ndigits=2) , pass_or_no))\n",
    "            \n",
    "    return z\n",
    "    "
   ]
  },
  {
   "cell_type": "code",
   "execution_count": 518,
   "id": "eddc65ec",
   "metadata": {},
   "outputs": [
    {
     "name": "stdout",
     "output_type": "stream",
     "text": [
      "(20191, 77.5, 'pass')\n",
      "(20192, 89.0, 'pass')\n",
      "(20193, 88.14, 'pass')\n",
      "(20194, 68.85, 'pass')\n",
      "(20195, 64.95, 'pass')\n",
      "(20196, 61.8, 'pass')\n",
      "(20197, 94.05, 'pass')\n",
      "(20198, 91.75, 'pass')\n",
      "(20199, 34.35, 'did not pass')\n",
      "(201910, 75.75, 'pass')\n"
     ]
    }
   ],
   "source": [
    "pass_or_no_pass(all_grades)"
   ]
  },
  {
   "cell_type": "markdown",
   "id": "a7937fb0",
   "metadata": {},
   "source": [
    "Done!"
   ]
  }
 ],
 "metadata": {
  "kernelspec": {
   "display_name": "Python 3",
   "language": "python",
   "name": "python3"
  },
  "language_info": {
   "codemirror_mode": {
    "name": "ipython",
    "version": 3
   },
   "file_extension": ".py",
   "mimetype": "text/x-python",
   "name": "python",
   "nbconvert_exporter": "python",
   "pygments_lexer": "ipython3",
   "version": "3.9.6"
  }
 },
 "nbformat": 4,
 "nbformat_minor": 5
}
