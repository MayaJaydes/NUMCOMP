{
 "cells": [
  {
   "cell_type": "code",
   "execution_count": null,
   "id": "b9905d43",
   "metadata": {},
   "outputs": [],
   "source": [
    "# Maya Sosa; HW4; Sept 14 14:09:07 EST 2021"
   ]
  },
  {
   "cell_type": "code",
   "execution_count": 32,
   "id": "1c02a100",
   "metadata": {},
   "outputs": [],
   "source": [
    "import numpy as np\n",
    "import math"
   ]
  },
  {
   "cell_type": "code",
   "execution_count": 26,
   "id": "a89544e8",
   "metadata": {
    "scrolled": true
   },
   "outputs": [
    {
     "name": "stdout",
     "output_type": "stream",
     "text": [
      "Problem 2:\n",
      "[ 50 150 100 120]\n"
     ]
    }
   ],
   "source": [
    "print('Problem 2:')\n",
    "\n",
    "m = np.array([10,15,20,40])\n",
    "a = np.array([5,10,5,3])\n",
    "\n",
    "F=m*a\n",
    "print(F)"
   ]
  },
  {
   "cell_type": "code",
   "execution_count": 33,
   "id": "d2b760bb",
   "metadata": {},
   "outputs": [],
   "source": [
    "# Problem 2\n",
    "def force_to_acceleration(F, m):\n",
    "    \"\"\"Calculates the acceleration of a body of mass when a force F is applied on it\n",
    "   Inputs: Force[F]= N ; Mass[m] = kg \n",
    "   Output: Acceleration[a] = m/s^2\"\"\"\n",
    "    \n",
    "    a = F/m\n",
    "    return a"
   ]
  },
  {
   "cell_type": "code",
   "execution_count": 36,
   "id": "665c32d8",
   "metadata": {},
   "outputs": [
    {
     "name": "stdout",
     "output_type": "stream",
     "text": [
      "Problem 2:\n",
      "0.6666666666666666\n",
      "0.14666666666666667\n",
      "3.0\n"
     ]
    }
   ],
   "source": [
    "print('Problem 2:')\n",
    "print(force_to_acceleration(100,150))\n",
    "print(force_to_acceleration(22,150))\n",
    "print(force_to_acceleration(450,150))"
   ]
  },
  {
   "cell_type": "code",
   "execution_count": 39,
   "id": "790460f6",
   "metadata": {},
   "outputs": [],
   "source": [
    "# Problem 3\n",
    "from HW4_Acceleration_Function import acceleration"
   ]
  },
  {
   "cell_type": "code",
   "execution_count": 41,
   "id": "56c1ef8e",
   "metadata": {},
   "outputs": [],
   "source": [
    "# Problem 3\n",
    "t1 = np.array([0,10,14,28,0])\n",
    "t2 = np.array([2,14,16,32,10])\n",
    "u1 = np.array([10,15,32,42,20])\n",
    "u2 = np.array([13,30,36,20,22])"
   ]
  },
  {
   "cell_type": "code",
   "execution_count": 42,
   "id": "a7a9ca3c",
   "metadata": {},
   "outputs": [
    {
     "name": "stdout",
     "output_type": "stream",
     "text": [
      "Problem 3:\n",
      "[ 1.5   3.75  2.   -5.5   0.2 ]\n"
     ]
    }
   ],
   "source": [
    "print('Problem 3:')\n",
    "print(acceleration(u1,u2,t1,t2))"
   ]
  },
  {
   "cell_type": "code",
   "execution_count": null,
   "id": "7433d533",
   "metadata": {},
   "outputs": [],
   "source": [
    "# Verified results with calculator [all correct :)] \n",
    "# Name 2 test cases"
   ]
  }
 ],
 "metadata": {
  "kernelspec": {
   "display_name": "Python 3",
   "language": "python",
   "name": "python3"
  },
  "language_info": {
   "codemirror_mode": {
    "name": "ipython",
    "version": 3
   },
   "file_extension": ".py",
   "mimetype": "text/x-python",
   "name": "python",
   "nbconvert_exporter": "python",
   "pygments_lexer": "ipython3",
   "version": "3.9.6"
  }
 },
 "nbformat": 4,
 "nbformat_minor": 5
}
