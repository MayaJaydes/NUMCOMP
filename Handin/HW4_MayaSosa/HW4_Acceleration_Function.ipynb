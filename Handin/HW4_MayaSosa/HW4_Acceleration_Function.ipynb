{
 "cells": [
  {
   "cell_type": "code",
   "execution_count": 3,
   "id": "7c9da12f",
   "metadata": {},
   "outputs": [],
   "source": [
    "# Problem 3\n",
    "def acceleration(u1, u2, t1, t2):\n",
    "    \"\"\"Calculates acceleration of a body using different speeds at different times\n",
    "    Inputs: Speed 1 [u1] and Speed 2 [u2] = m/s ; Time 1 [t1] and Time 2 [ts] = s\n",
    "    Output: Acceleration [a] = m/s^2\"\"\"\n",
    "\n",
    "    a = (u2 - u1) / (t2 - t1)\n",
    "    return a"
   ]
  }
 ],
 "metadata": {
  "kernelspec": {
   "display_name": "Python 3",
   "language": "python",
   "name": "python3"
  },
  "language_info": {
   "codemirror_mode": {
    "name": "ipython",
    "version": 3
   },
   "file_extension": ".py",
   "mimetype": "text/x-python",
   "name": "python",
   "nbconvert_exporter": "python",
   "pygments_lexer": "ipython3",
   "version": "3.9.6"
  }
 },
 "nbformat": 4,
 "nbformat_minor": 5
}
