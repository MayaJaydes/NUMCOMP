{
 "cells": [
  {
   "cell_type": "markdown",
   "id": "98041af3",
   "metadata": {},
   "source": [
    "From last HW:\n",
    "    "
   ]
  },
  {
   "cell_type": "code",
   "execution_count": 1,
   "id": "c7ee85e6",
   "metadata": {},
   "outputs": [],
   "source": [
    "class holiday_frenzy:\n",
    "    def __init__(self, a, b, c, number_of_gifts, wrap_paper_available): \n",
    "        self.a = a\n",
    "        self.b = b\n",
    "        self.c = c\n",
    "        self.number_of_gifts = number_of_gifts\n",
    "        self.wrap_paper_available = wrap_paper_available\n",
    "        \n",
    "    def surface_area(self):\n",
    "        \"\"\"Returns surface area of box\"\"\"\n",
    "        surface_area = (2*self.a*self.b) + (2*self.a*self.c) + (2*self.b*self.c)\n",
    "        return surface_area\n",
    "    \n",
    "    def volume(self):\n",
    "        \"\"\"Returns volume of box\"\"\"\n",
    "        volume = self.a * self.b * self.c\n",
    "        return volume\n",
    "        \n",
    "    def enough_paper(self, surface_area):\n",
    "        \"\"\"Checks if you have enough wrapping paper\"\"\"\n",
    "        wrap_paper_needed = surface_area\n",
    "        if wrap_paper_needed <= self.wrap_paper_available:\n",
    "            enough = 'You do have enough wrapping paper to wrap your box. '\n",
    "        else:\n",
    "            enough = 'You do not have enough wrapping paper to fit your box. '  \n",
    "        return enough\n",
    "        \n",
    "        \n",
    "    def fits(self, volume):\n",
    "        \"\"\"Checks if your box can fit all the presents (assuming average volume of a gift is 25 inches^3)\"\"\"\n",
    "        total_volume_gifts = 25 * self.number_of_gifts\n",
    "        if volume >= total_volume_gifts:\n",
    "            fits = 'Your gifts will fit in your box.'\n",
    "        else:\n",
    "            fits = 'Your gifts will not fit in your box'\n",
    "        return fits\n",
    "            \n",
    "        \n",
    "    def prints_gift(self, enough, fits):\n",
    "        \"Prints an informative statement letting you know if you have enough wrapping paper to wrap your box and if your gifts fit in the box.\"\n",
    "        return enough + fits"
   ]
  },
  {
   "cell_type": "code",
   "execution_count": 2,
   "id": "f57c6590",
   "metadata": {},
   "outputs": [
    {
     "name": "stdout",
     "output_type": "stream",
     "text": [
      "For box 1 : You do have enough wrapping paper to wrap your box. Your gifts will fit in your box.\n",
      "For box 2 : You do have enough wrapping paper to wrap your box. Your gifts will not fit in your box\n",
      "For box 3 : You do not have enough wrapping paper to fit your box. Your gifts will fit in your box.\n"
     ]
    }
   ],
   "source": [
    "box1 = holiday_frenzy(10, 10, 10, 15, 800)\n",
    "box2 = holiday_frenzy(10, 10, 10, 55, 1000)\n",
    "box3 = holiday_frenzy(100, 20, 10, 55, 300)\n",
    "\n",
    "box_list = [box1, box2, box3]\n",
    "\n",
    "for i in box_list:\n",
    "    x = i.surface_area()\n",
    "    z = i.enough_paper(x)\n",
    "    y = i.volume()\n",
    "    f = i.fits(y)\n",
    "    print ('For box', box_list.index(i) + 1,':',  i.prints_gift(z, f))"
   ]
  }
 ],
 "metadata": {
  "kernelspec": {
   "display_name": "Python 3",
   "language": "python",
   "name": "python3"
  },
  "language_info": {
   "codemirror_mode": {
    "name": "ipython",
    "version": 3
   },
   "file_extension": ".py",
   "mimetype": "text/x-python",
   "name": "python",
   "nbconvert_exporter": "python",
   "pygments_lexer": "ipython3",
   "version": "3.9.6"
  }
 },
 "nbformat": 4,
 "nbformat_minor": 5
}
