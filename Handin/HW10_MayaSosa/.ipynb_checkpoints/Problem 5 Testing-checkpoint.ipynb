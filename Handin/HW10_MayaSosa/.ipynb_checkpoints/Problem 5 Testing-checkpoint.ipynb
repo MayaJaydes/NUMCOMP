{
 "cells": [
  {
   "cell_type": "markdown",
   "id": "52b040d8",
   "metadata": {},
   "source": [
    "## You can ignore this file, I was just testing and combining code for our group project"
   ]
  },
  {
   "cell_type": "code",
   "execution_count": null,
   "id": "67b13011",
   "metadata": {},
   "outputs": [],
   "source": [
    "#Function volume(R) that calculates the volume of a sphere with the given radius. \n",
    "#Team 2 will create an array x = np.arange(-10, 10, 0.5) and assign a radius R = 2, and call and print the results of all three functions\n",
    "#Give R what are the y coordinates of the circle and what is the diameter, surface and volume of the sphere? "
   ]
  },
  {
   "cell_type": "code",
   "execution_count": 24,
   "id": "2d48b3ad",
   "metadata": {},
   "outputs": [
    {
     "name": "stdout",
     "output_type": "stream",
     "text": [
      "For a sphere with radius 2 the volume is 33.51 and the y-coordinates are [9.8  9.29 8.77 8.26 7.75 7.23 6.71 6.18 5.66 5.12 4.58 4.03 3.46 2.87\n",
      " 2.24 1.5  0.   1.32 1.73 1.94 2.   1.94 1.73 1.32 0.   1.5  2.24 2.87\n",
      " 3.46 4.03 4.58 5.12 5.66 6.18 6.71 7.23 7.75 8.26 8.77 9.29] , the diameter is 4 and the surface area is 50.27\n"
     ]
    }
   ],
   "source": [
    "#Team 1:\n",
    "def coordinates(x,R):\n",
    "    \"\"\"This function calculates the y values of a circle with radius R.\\\n",
    "    The size of the y array will be double to that of the input x array.\n",
    "    Input: Array of x-axis points\n",
    "           Radius of circle \n",
    "    Output: Array of y values\"\"\"\n",
    "\n",
    "    #Numpy is imported from inside function in case it has not been previously imported\n",
    "    import numpy as np\n",
    "    \n",
    "    ycoords = []\n",
    "    \n",
    "    y = np.sqrt(abs((R**2)-(x**2)))\n",
    "    ycoords.append(np.round(y,2))\n",
    "    \n",
    "\n",
    "    return ycoords\n",
    "\n",
    "#Function to calculate diameter and surface area of sphere\n",
    "def sphere_properties(R):\n",
    "    \"\"\"This function uses the radius of a sphere to calculate its diameter and surface area.\n",
    "    Input: Radius [float]\n",
    "    Output: [Diameter, Surface Area] [List]\"\"\"\n",
    "\n",
    "    #Numpy is imported from inside function in case it has not been previously imported\n",
    "    import numpy as np\n",
    "\n",
    "    #Diameter of sphere\n",
    "    D = 2*R\n",
    "    #Surface area of sphere\n",
    "    SA = 4*np.pi*(R**2)\n",
    "\n",
    "    return [D,SA]\n",
    "\n",
    "#Team 2:\n",
    "def volume(R):\n",
    "    \"\"\"Calculates the volume of a sphere given a radius R\n",
    "    Input: Radius\n",
    "    Output: Volume of Sphere\"\"\"\n",
    "    \n",
    "    v = (4/3) * np.pi * (R**3)\n",
    "    \n",
    "    return v\n",
    "\n",
    "x = np.arange(-10,10,0.5)\n",
    "R = 2\n",
    "v = volume(R)\n",
    "c = coordinates(x, R)\n",
    "d = sphere_properties(R)\n",
    "\n",
    "print('For a sphere with radius', R, 'the volume is', np.round(v,2), 'and the y-coordinates are', c[0], ', the diameter is', d[0], 'and the surface area is', round(d[1],2))"
   ]
  }
 ],
 "metadata": {
  "kernelspec": {
   "display_name": "Python 3",
   "language": "python",
   "name": "python3"
  },
  "language_info": {
   "codemirror_mode": {
    "name": "ipython",
    "version": 3
   },
   "file_extension": ".py",
   "mimetype": "text/x-python",
   "name": "python",
   "nbconvert_exporter": "python",
   "pygments_lexer": "ipython3",
   "version": "3.9.6"
  }
 },
 "nbformat": 4,
 "nbformat_minor": 5
}
