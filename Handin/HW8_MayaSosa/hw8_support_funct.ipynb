{
 "cells": [
  {
   "cell_type": "code",
   "execution_count": 150,
   "id": "e5787e48",
   "metadata": {},
   "outputs": [],
   "source": [
    "import numpy as np"
   ]
  },
  {
   "cell_type": "markdown",
   "id": "33884144",
   "metadata": {},
   "source": [
    "Problem 3:"
   ]
  },
  {
   "cell_type": "code",
   "execution_count": 151,
   "id": "5180f187",
   "metadata": {},
   "outputs": [],
   "source": [
    "def order_array(input_array):\n",
    "    \"\"\"Function takes as input an array of numbers and orders them from smallest to largest\n",
    "    Input: array\n",
    "    Output: array ordered (smallest to largest)\"\"\"\n",
    "    \n",
    "    x = input_array\n",
    "    \n",
    "    for i in range(len(x)):    \n",
    "        for j in range(i+1, len(x)):    \n",
    "            if(x[i] > x[j]):    \n",
    "                temp = x[i]  \n",
    "                x[i] = x[j]    \n",
    "                x[j] = temp  \n",
    "    \n",
    "    return x"
   ]
  },
  {
   "cell_type": "markdown",
   "id": "47084007",
   "metadata": {},
   "source": [
    "Problem 4:"
   ]
  },
  {
   "cell_type": "code",
   "execution_count": 152,
   "id": "8186eb36",
   "metadata": {},
   "outputs": [],
   "source": [
    "from sympy import symbols, Eq, solve"
   ]
  },
  {
   "cell_type": "code",
   "execution_count": 154,
   "id": "5595c801",
   "metadata": {},
   "outputs": [],
   "source": [
    "def kepler_3rd(period):\n",
    "    \"\"\"Function takes the orbital period of a planet in years and returns the orbital distance of a planet to the Sun using a derivation of Kepler's 3rd law: (P1)^2/(P2)^2 = (𝛼1)^3/(𝑎2)^3.\n",
    "    Inputs: Period (Earth days it takes a planet to orbit once), \n",
    "    Outputs: Distance from planet to the sun in Astronomical Units (AU)\"\"\"\n",
    "    \n",
    "    #using earth as a base point\n",
    "    p1 = 365.25\n",
    "    a1 = 1\n",
    "    \n",
    "    #variables\n",
    "    p2 = period\n",
    "    a2 = symbols('a2')\n",
    "    \n",
    "    kep3 = Eq((p1**2)/(p2**2),(a1**3)/(a2**3))\n",
    "    \n",
    "    solution = solve((kep3),(a2))\n",
    "    \n",
    "    x = round(solution[0], 1)\n",
    "    \n",
    "    \n",
    "    return x\n",
    "    "
   ]
  }
 ],
 "metadata": {
  "kernelspec": {
   "display_name": "Python 3",
   "language": "python",
   "name": "python3"
  },
  "language_info": {
   "codemirror_mode": {
    "name": "ipython",
    "version": 3
   },
   "file_extension": ".py",
   "mimetype": "text/x-python",
   "name": "python",
   "nbconvert_exporter": "python",
   "pygments_lexer": "ipython3",
   "version": "3.9.6"
  }
 },
 "nbformat": 4,
 "nbformat_minor": 5
}
