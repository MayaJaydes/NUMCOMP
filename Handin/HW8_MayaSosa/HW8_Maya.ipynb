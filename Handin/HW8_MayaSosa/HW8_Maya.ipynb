{
 "cells": [
  {
   "cell_type": "markdown",
   "id": "fb6820f2",
   "metadata": {},
   "source": [
    "## Maya Sosa, HW8, 10/21/21"
   ]
  },
  {
   "cell_type": "markdown",
   "id": "4b82e5ed",
   "metadata": {},
   "source": [
    "Problem 1:"
   ]
  },
  {
   "cell_type": "code",
   "execution_count": 1,
   "id": "db70a472",
   "metadata": {},
   "outputs": [],
   "source": [
    "import numpy as np"
   ]
  },
  {
   "cell_type": "code",
   "execution_count": 2,
   "id": "bcd4a689",
   "metadata": {},
   "outputs": [],
   "source": [
    "# For problem 4\n",
    "from sympy import symbols, Eq, solve"
   ]
  },
  {
   "cell_type": "markdown",
   "id": "1f34d55c",
   "metadata": {},
   "source": [
    "Problem 2:"
   ]
  },
  {
   "cell_type": "code",
   "execution_count": 3,
   "id": "11843474",
   "metadata": {},
   "outputs": [],
   "source": [
    "import matplotlib.pyplot as plt\n",
    "%matplotlib inline"
   ]
  },
  {
   "cell_type": "code",
   "execution_count": 4,
   "id": "f4593a43",
   "metadata": {},
   "outputs": [],
   "source": [
    "x = np.arange(-100,100,0.1)\n",
    "y = x"
   ]
  },
  {
   "cell_type": "code",
   "execution_count": 5,
   "id": "0fb029f5",
   "metadata": {},
   "outputs": [],
   "source": [
    "def ellipse(x, y, a, b):\n",
    "    \"\"\"Function will plot an elipse given values a and b and using arrays x and y that go from -100 up to (and not including) 100 in steps of 0.1 using equation ((x^2/a^2)+(y^2/b^2)=1)\n",
    "    Inputs: array x and y, constants a and b\n",
    "    Output: Graph of given ellipse\"\"\"\n",
    "    \n",
    "    funct = (b**2) * ( 1 - ( (x**2) / (a**2) ) )\n",
    "     \n",
    "    y1 = np.sqrt( funct )\n",
    "    y2 = -np.sqrt( funct )\n",
    "    \n",
    "\n",
    "    return plt.plot(x, y1, color = 'blue') and plt.plot(x, y2, color = 'blue')\n",
    "    "
   ]
  },
  {
   "cell_type": "code",
   "execution_count": 6,
   "id": "8d2e76aa",
   "metadata": {},
   "outputs": [
    {
     "name": "stderr",
     "output_type": "stream",
     "text": [
      "<ipython-input-5-f7b657a765b6>:8: RuntimeWarning: invalid value encountered in sqrt\n",
      "  y1 = np.sqrt( funct )\n",
      "<ipython-input-5-f7b657a765b6>:9: RuntimeWarning: invalid value encountered in sqrt\n",
      "  y2 = -np.sqrt( funct )\n"
     ]
    },
    {
     "data": {
      "text/plain": [
       "[<matplotlib.lines.Line2D at 0x1904bf03520>]"
      ]
     },
     "execution_count": 6,
     "metadata": {},
     "output_type": "execute_result"
    },
    {
     "data": {
      "image/png": "[encoded data removed]",
      "text/plain": [
       "<Figure size 432x288 with 1 Axes>"
      ]
     },
     "metadata": {
      "needs_background": "light"
     },
     "output_type": "display_data"
    }
   ],
   "source": [
    "ellipse(x, y, 12, 2)"
   ]
  },
  {
   "cell_type": "code",
   "execution_count": 7,
   "id": "238579d6",
   "metadata": {},
   "outputs": [
    {
     "name": "stderr",
     "output_type": "stream",
     "text": [
      "<ipython-input-5-f7b657a765b6>:8: RuntimeWarning: invalid value encountered in sqrt\n",
      "  y1 = np.sqrt( funct )\n",
      "<ipython-input-5-f7b657a765b6>:9: RuntimeWarning: invalid value encountered in sqrt\n",
      "  y2 = -np.sqrt( funct )\n"
     ]
    },
    {
     "data": {
      "text/plain": [
       "[<matplotlib.lines.Line2D at 0x1904c68d220>]"
      ]
     },
     "execution_count": 7,
     "metadata": {},
     "output_type": "execute_result"
    },
    {
     "data": {
      "image/png": "[encoded data removed]",
      "text/plain": [
       "<Figure size 432x288 with 1 Axes>"
      ]
     },
     "metadata": {
      "needs_background": "light"
     },
     "output_type": "display_data"
    }
   ],
   "source": [
    "ellipse(x, y, 4, 20)"
   ]
  },
  {
   "cell_type": "markdown",
   "id": "54717412",
   "metadata": {},
   "source": [
    "Problem 3:"
   ]
  },
  {
   "cell_type": "code",
   "execution_count": 8,
   "id": "a066b579",
   "metadata": {},
   "outputs": [],
   "source": [
    "from hw8_support_funct import order_array"
   ]
  },
  {
   "cell_type": "code",
   "execution_count": 9,
   "id": "bd9c0616",
   "metadata": {},
   "outputs": [
    {
     "name": "stdout",
     "output_type": "stream",
     "text": [
      "Given array: [ 4  5  2 10 42 22  8 12]\n",
      "Array sorted with my function: [ 2  4  5  8 10 12 22 42]\n",
      "We can check that the function is correct using np.sort, which gives us: [ 2  4  5  8 10 12 22 42]\n"
     ]
    }
   ],
   "source": [
    "#Given array\n",
    "input_array = np.array([4,5,2,10,42,22,8,12])\n",
    "print('Given array:', input_array)\n",
    "\n",
    "#Array sorted with my function\n",
    "z = order_array(input_array)\n",
    "print('Array sorted with my function:', z)\n",
    "\n",
    "#Array sorted with np.sort\n",
    "input_array2sort = np.array([4,5,2,10,42,22,8,12])\n",
    "print('We can check that the function is correct using np.sort, which gives us:', np.sort(input_array2sort))\n"
   ]
  },
  {
   "cell_type": "markdown",
   "id": "d83adabd",
   "metadata": {},
   "source": [
    "Problem 4:"
   ]
  },
  {
   "cell_type": "code",
   "execution_count": 10,
   "id": "af724cf8",
   "metadata": {},
   "outputs": [],
   "source": [
    "from hw8_support_funct import kepler_3rd"
   ]
  },
  {
   "cell_type": "code",
   "execution_count": 11,
   "id": "b42b621e",
   "metadata": {},
   "outputs": [
    {
     "name": "stdout",
     "output_type": "stream",
     "text": [
      "Mercury's distance is 0.4 AU\n",
      "Venus's distance is 0.7 AU\n",
      "Mars' distance is 1.5 AU\n",
      "Jupiter's distance is 5.2 AU\n",
      "Saturn's distance is 9.5 AU\n",
      "Uranus' distance is 19.2 AU\n",
      "Neptune's distance is 30.1 AU\n"
     ]
    }
   ],
   "source": [
    "print(\"Mercury's distance is\", kepler_3rd(87.96), 'AU')\n",
    "print(\"Venus's distance is\", kepler_3rd(224.7), 'AU')\n",
    "print(\"Mars' distance is\", kepler_3rd(686.97), 'AU')\n",
    "print(\"Jupiter's distance is\", kepler_3rd(4332.82), 'AU')\n",
    "print(\"Saturn's distance is\", kepler_3rd(10775.6), 'AU')\n",
    "print(\"Uranus' distance is\", kepler_3rd(30687.15), 'AU')\n",
    "print(\"Neptune's distance is\", kepler_3rd(60190.03), 'AU')"
   ]
  },
  {
   "cell_type": "code",
   "execution_count": 12,
   "id": "68b109d0",
   "metadata": {},
   "outputs": [
    {
     "data": {
      "text/plain": [
       "<matplotlib.legend.Legend at 0x1904cb40f70>"
      ]
     },
     "execution_count": 12,
     "metadata": {},
     "output_type": "execute_result"
    },
    {
     "data": {
      "image/png": "[encoded data removed]",
      "text/plain": [
       "<Figure size 576x576 with 1 Axes>"
      ]
     },
     "metadata": {
      "needs_background": "light"
     },
     "output_type": "display_data"
    }
   ],
   "source": [
    "my_values = {'Mercury': kepler_3rd(87.96), \n",
    "          'Venus': kepler_3rd(224.7),\n",
    "          'Mars' : kepler_3rd(686.97),\n",
    "          'Jupiter': kepler_3rd(4332.82),\n",
    "          'Saturn' : kepler_3rd(10775.6),\n",
    "          'Uranus' : kepler_3rd(30687.15),\n",
    "          'Neptune': kepler_3rd(60190.03)} \n",
    "\n",
    "\n",
    "true_values = {'Mercury': 0.4, \n",
    "          'Venus': 0.7,\n",
    "          'Mars' : 1.524,\n",
    "          'Jupiter': 5.2,\n",
    "          'Saturn' : 9.6,\n",
    "          'Uranus' : 19.2,\n",
    "          'Neptune': 30.1}\n",
    "\n",
    "#Plotting graph\n",
    "\n",
    "plt.figure( figsize = (8, 8 ) )\n",
    "\n",
    "my_list = my_values.items()\n",
    "my_list = sorted(my_list)\n",
    "x, y = zip(*my_list)\n",
    "line1 = plt.plot(x, y, color='red', label = 'Predicted Distances')\n",
    "\n",
    "true_list = true_values.items()\n",
    "true_list = sorted(true_list)\n",
    "x, z = zip(*true_list)\n",
    "plt.plot(x, z, color='forestgreen', linestyle='none', marker = 'd', label = 'Real Distances')\n",
    "\n",
    "plt.xlabel( 'Planets' , fontsize = 15 )\n",
    "plt.ylabel( 'Distance (AU)' , fontsize = 15 )\n",
    "plt.title( 'Problem 4 Graph' , fontsize = 15 )\n",
    "\n",
    "plt.legend(fontsize = 12)\n",
    "\n"
   ]
  },
  {
   "cell_type": "markdown",
   "id": "a0faa03a",
   "metadata": {},
   "source": [
    "Done!"
   ]
  }
 ],
 "metadata": {
  "kernelspec": {
   "display_name": "Python 3",
   "language": "python",
   "name": "python3"
  },
  "language_info": {
   "codemirror_mode": {
    "name": "ipython",
    "version": 3
   },
   "file_extension": ".py",
   "mimetype": "text/x-python",
   "name": "python",
   "nbconvert_exporter": "python",
   "pygments_lexer": "ipython3",
   "version": "3.9.6"
  }
 },
 "nbformat": 4,
 "nbformat_minor": 5
}
