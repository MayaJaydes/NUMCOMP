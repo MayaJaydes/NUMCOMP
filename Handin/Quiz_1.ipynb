{
 "cells": [
  {
   "cell_type": "code",
   "execution_count": 5,
   "id": "b90a8d0c",
   "metadata": {},
   "outputs": [],
   "source": [
    "Random_1 = (5.,12.,15.)\n",
    "Random_2 = [5.,12.,15.]"
   ]
  },
  {
   "cell_type": "code",
   "execution_count": 8,
   "id": "1f4efef4",
   "metadata": {},
   "outputs": [],
   "source": [
    "import numpy as np"
   ]
  },
  {
   "cell_type": "code",
   "execution_count": 6,
   "id": "dce507b4",
   "metadata": {},
   "outputs": [
    {
     "name": "stdout",
     "output_type": "stream",
     "text": [
      "<class 'tuple'> <class 'list'>\n"
     ]
    }
   ],
   "source": [
    "print(type(Random_1), type(Random_2))"
   ]
  },
  {
   "cell_type": "code",
   "execution_count": 9,
   "id": "6b3c2512",
   "metadata": {},
   "outputs": [],
   "source": [
    "test_1 = np.array(  [ 1 , 2 , 3,  5 ,  7 , 11 ] )\n",
    "test_2 = np.array(  [ 2, 6, 8, 10 , 12, 14 ] )"
   ]
  },
  {
   "cell_type": "code",
   "execution_count": 10,
   "id": "6b9496ce",
   "metadata": {},
   "outputs": [
    {
     "name": "stdout",
     "output_type": "stream",
     "text": [
      "[0.5        0.33333333 0.375      0.5        0.58333333 0.78571429]\n"
     ]
    }
   ],
   "source": [
    "print(test_1/test_2)"
   ]
  },
  {
   "cell_type": "code",
   "execution_count": 14,
   "id": "9f320523",
   "metadata": {},
   "outputs": [
    {
     "name": "stdout",
     "output_type": "stream",
     "text": [
      "[1, 6, 7, 9, 12]\n"
     ]
    }
   ],
   "source": [
    "random_list = [ 1, 6, 7, 9, 12]\n",
    "print(random_list)"
   ]
  },
  {
   "cell_type": "code",
   "execution_count": 16,
   "id": "3fb54090",
   "metadata": {},
   "outputs": [
    {
     "name": "stdout",
     "output_type": "stream",
     "text": [
      "[1, 6, 5, 9, 12]\n"
     ]
    }
   ],
   "source": [
    "random_list[2]=5\n",
    "print(random_list)"
   ]
  },
  {
   "cell_type": "code",
   "execution_count": 17,
   "id": "dbfa3fda",
   "metadata": {},
   "outputs": [
    {
     "name": "stdout",
     "output_type": "stream",
     "text": [
      "[1, 6, 5, 9, 12, 1, 6, 5, 9, 12, 1, 6, 5, 9, 12, 1, 6, 5, 9, 12, 1, 6, 5, 9, 12, 1, 6, 5, 9, 12, 1, 6, 5, 9, 12, 1, 6, 5, 9, 12, 1, 6, 5, 9, 12, 1, 6, 5, 9, 12]\n"
     ]
    }
   ],
   "source": [
    "print(random_list*10)"
   ]
  },
  {
   "cell_type": "code",
   "execution_count": 20,
   "id": "0aaad1a8",
   "metadata": {},
   "outputs": [
    {
     "name": "stdout",
     "output_type": "stream",
     "text": [
      "[ 10.   10.5  11.   11.5  12.   12.5  13.   13.5  14.   14.5  15.   15.5\n",
      "  16.   16.5  17.   17.5  18.   18.5  19.   19.5  20.   20.5  21.   21.5\n",
      "  22.   22.5  23.   23.5  24.   24.5  25.   25.5  26.   26.5  27.   27.5\n",
      "  28.   28.5  29.   29.5  30.   30.5  31.   31.5  32.   32.5  33.   33.5\n",
      "  34.   34.5  35.   35.5  36.   36.5  37.   37.5  38.   38.5  39.   39.5\n",
      "  40.   40.5  41.   41.5  42.   42.5  43.   43.5  44.   44.5  45.   45.5\n",
      "  46.   46.5  47.   47.5  48.   48.5  49.   49.5  50.   50.5  51.   51.5\n",
      "  52.   52.5  53.   53.5  54.   54.5  55.   55.5  56.   56.5  57.   57.5\n",
      "  58.   58.5  59.   59.5  60.   60.5  61.   61.5  62.   62.5  63.   63.5\n",
      "  64.   64.5  65.   65.5  66.   66.5  67.   67.5  68.   68.5  69.   69.5\n",
      "  70.   70.5  71.   71.5  72.   72.5  73.   73.5  74.   74.5  75.   75.5\n",
      "  76.   76.5  77.   77.5  78.   78.5  79.   79.5  80.   80.5  81.   81.5\n",
      "  82.   82.5  83.   83.5  84.   84.5  85.   85.5  86.   86.5  87.   87.5\n",
      "  88.   88.5  89.   89.5  90.   90.5  91.   91.5  92.   92.5  93.   93.5\n",
      "  94.   94.5  95.   95.5  96.   96.5  97.   97.5  98.   98.5  99.   99.5\n",
      " 100. ]\n"
     ]
    }
   ],
   "source": [
    "x=np.arange(10,100.1,0.5)\n",
    "print(x)"
   ]
  },
  {
   "cell_type": "code",
   "execution_count": null,
   "id": "8f0066f5",
   "metadata": {},
   "outputs": [],
   "source": [
    "y = np.arange()"
   ]
  },
  {
   "cell_type": "code",
   "execution_count": 22,
   "id": "6ed3d5a7",
   "metadata": {},
   "outputs": [
    {
     "name": "stdout",
     "output_type": "stream",
     "text": [
      "16\n"
     ]
    }
   ],
   "source": [
    "ice_1 = np.array( [ 10, 12, 16, 22, -4, 8, -12 ] )\n",
    "print(ice_1[2])"
   ]
  },
  {
   "cell_type": "code",
   "execution_count": 34,
   "id": "a0b39b54",
   "metadata": {},
   "outputs": [
    {
     "name": "stdout",
     "output_type": "stream",
     "text": [
      "[16 22]\n",
      "[ -4 -12]\n"
     ]
    }
   ],
   "source": [
    "print(ice_1[np.where(ice_1>12)])\n",
    "print(ice_1[np.where(ice_1<0)])\n"
   ]
  }
 ],
 "metadata": {
  "kernelspec": {
   "display_name": "Python 3",
   "language": "python",
   "name": "python3"
  },
  "language_info": {
   "codemirror_mode": {
    "name": "ipython",
    "version": 3
   },
   "file_extension": ".py",
   "mimetype": "text/x-python",
   "name": "python",
   "nbconvert_exporter": "python",
   "pygments_lexer": "ipython3",
   "version": "3.9.6"
  }
 },
 "nbformat": 4,
 "nbformat_minor": 5
}
